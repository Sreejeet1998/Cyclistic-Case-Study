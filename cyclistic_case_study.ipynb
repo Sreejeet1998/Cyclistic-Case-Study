{
  "cells": [
    {
      "cell_type": "markdown",
      "id": "7d434a27",
      "metadata": {
        "papermill": {
          "duration": 0.016235,
          "end_time": "2023-02-02T07:58:21.636833",
          "exception": false,
          "start_time": "2023-02-02T07:58:21.620598",
          "status": "completed"
        },
        "tags": [],
        "id": "7d434a27"
      },
      "source": [
        "**Introduction :**\n",
        "\n",
        "This Is My first case study which was given to me in the [Google Data Analytics Capstone: Complete a case study course][1].\n",
        "In this Case study I implimented everything that I learned in the [Google Data Analytics][2] course.\n",
        "\n",
        "* To complete this case study all steps of the data analysis is needed :- Ask, Prepare, Process, Analyze, Share, and Act.\n",
        "\n",
        "Every steps will need it's own processes.\n",
        "1. Guiding questions and answers\n",
        "2. Key tasks\n",
        "3. Deliverables\n",
        "4. code/formulas needed\n",
        "[1]: https://www.coursera.org/learn/google-data-analytics-capstone\n",
        "[2]: https://www.coursera.org/professional-certificates/google-data-analytics"
      ]
    },
    {
      "cell_type": "markdown",
      "id": "df906d84",
      "metadata": {
        "papermill": {
          "duration": 0.016714,
          "end_time": "2023-02-02T07:58:21.668669",
          "exception": false,
          "start_time": "2023-02-02T07:58:21.651955",
          "status": "completed"
        },
        "tags": [],
        "id": "df906d84"
      },
      "source": [
        "**Table of Contents**\n",
        "\n",
        "* *Problem Statement*\n",
        "* *Ask*\n",
        "* *Prepare*\n",
        "* *Process*\n",
        "* *Analyze*\n",
        "* *Share*\n",
        "* *Act*\n",
        "\n",
        "* Conclusion"
      ]
    },
    {
      "cell_type": "markdown",
      "id": "5e7dd690",
      "metadata": {
        "papermill": {
          "duration": 0.014764,
          "end_time": "2023-02-02T07:58:21.698701",
          "exception": false,
          "start_time": "2023-02-02T07:58:21.683937",
          "status": "completed"
        },
        "tags": [],
        "id": "5e7dd690"
      },
      "source": [
        "**Problem Statement**\n",
        "\n",
        "\n",
        "**Scenario**\n",
        "You are a junior data analyst working in the marketing analyst team at Cyclistic, a bike-share company in Chicago. The director\n",
        "of marketing believes the company’s future success depends on maximizing the number of annual memberships. Therefore,\n",
        "your team wants to understand how casual riders and annual members use Cyclistic bikes differently. From these insights,\n",
        "your team will design a new marketing strategy to convert casual riders into annual members. But first, Cyclistic executives\n",
        "must approve your recommendations, so they must be backed up with compelling data insights and professional data\n",
        "visualizations.\n",
        "\n",
        "**About the company**\n",
        "In 2016, Cyclistic launched a successful bike-share offering. Since then, the program has grown to a fleet of 5,824 bicycles that\n",
        "are geotracked and locked into a network of 692 stations across Chicago. The bikes can be unlocked from one station and\n",
        "returned to any other station in the system anytime.\n",
        "Until now, Cyclistic’s marketing strategy relied on building general awareness and appealing to broad consumer segments.\n",
        "One approach that helped make these things possible was the flexibility of its pricing plans: single-ride passes, full-day passes,\n",
        "and annual memberships. Customers who purchase single-ride or full-day passes are referred to as casual riders. Customers\n",
        "who purchase annual memberships are Cyclistic members.\n",
        "Cyclistic’s finance analysts have concluded that annual members are much more profitable than casual riders. Although the\n",
        "pricing flexibility helps Cyclistic attract more customers, Moreno believes that maximizing the number of annual members will\n",
        "be key to future growth. Rather than creating a marketing campaign that targets all-new customers, Moreno believes there is a\n",
        "very good chance to convert casual riders into members. She notes that casual riders are already aware of the Cyclistic\n",
        "program and have chosen Cyclistic for their mobility needs.\n",
        "Moreno has set a clear goal: Design marketing strategies aimed at converting casual riders into annual members. In order to\n",
        "do that, however, the marketing analyst team needs to better understand how annual members and casual riders differ, why\n",
        "casual riders would buy a membership, and how digital media could affect their marketing tactics. Moreno and her team are\n",
        "interested in analyzing the Cyclistic historical bike trip data to identify trends."
      ]
    },
    {
      "cell_type": "markdown",
      "id": "3db47ed7",
      "metadata": {
        "papermill": {
          "duration": 0.014803,
          "end_time": "2023-02-02T07:58:21.727800",
          "exception": false,
          "start_time": "2023-02-02T07:58:21.712997",
          "status": "completed"
        },
        "tags": [],
        "id": "3db47ed7"
      },
      "source": [
        "**Ask**\n",
        "\n",
        "1. How do annual members and casual riders use Cyclistic bikes differently?\n",
        "\n",
        "*Guiding questions*\n",
        "\n",
        "● What is the problem you are trying to solve?\n",
        "\n",
        "Ans:- The problem that I am trying to solve in this case study is finding the difference of use among Casual Users And Subscribed Members of the Cyclistic company.\n",
        "\n",
        "● How can your insights drive business decisions?\n",
        "\n",
        "Ans:- The insights gathered and visually presented will show the use difference between Casual Users and Subscribed Members, Which will help the company to make their business plan accordingly so they can get more Subscribed Members.\n",
        "\n",
        "*Key tasks*\n",
        "\n",
        "1. Identify the business task\n",
        "2. Consider key stakeholders\n",
        "\n",
        "*Deliverable*\n",
        "\n",
        "A clear statement of the business task\n",
        "\n",
        " Is to find the difference of usage between Casual Users and Members."
      ]
    },
    {
      "cell_type": "markdown",
      "id": "601c19ba",
      "metadata": {
        "papermill": {
          "duration": 0.014684,
          "end_time": "2023-02-02T07:58:21.756918",
          "exception": false,
          "start_time": "2023-02-02T07:58:21.742234",
          "status": "completed"
        },
        "tags": [],
        "id": "601c19ba"
      },
      "source": [
        "**Prepare**\n",
        "\n",
        "To do this case study I was provided the required dataset from the [Google Data Analytics Professional Certificate][1] course in [Coursera][2] which is available [here][3].\n",
        "\n",
        "*Guiding questions*\n",
        "\n",
        "● Where is your data located?\n",
        "\n",
        "Ans:- My data was originally from keggle which Google updated with upto-date data and more added coloums like station name which         helps more to do anallysis.\n",
        "\n",
        "● How is the data organized?\n",
        "\n",
        "Ans:- The Data is organized in .csv (comma-separated values) format with each month having it's own .csv file.\n",
        "\n",
        "● Are there issues with bias or credibility in this data? [Does your data ROCCC?][4]\n",
        "\n",
        "Ans:- No there is no issue of bias as the data is from the company itself, This data provides User usage of whole months for every       hour so data does not have problem with bias. And **YES** the data is ROCCC because the data was provided from the company         so it is reliable and original, also the data is comprehensive, current and sited.\n",
        "\n",
        "● How are you addressing licensing, privacy, security, and accessibility?\n",
        "\n",
        "Ans:- The data is companies own data so they have the license of the data, the data does not contain any personal information           regarding it's users and also data is secure via company policies and users can access their own data.\n",
        "\n",
        "● How did you verify the data’s integrity?\n",
        "\n",
        "Ans:- After getting the data i load them in MS Excel and looked all the columns and datatypes which were all consistent.\n",
        "\n",
        "● How does it help you answer your question?\n",
        "\n",
        "Ans:- The dataset may have some insights regarding it's usage which can help me find out the difference.\n",
        "\n",
        "● Are there any problems with the data?\n",
        "\n",
        "Ans:- Some of the columns needs more updated values and there are a lot of Null values in it.\n",
        "\n",
        "*Key tasks*\n",
        "\n",
        "1. Download data and store it appropriately.\n",
        "2. Identify how it’s organized.\n",
        "3. Sort and filter the data.\n",
        "4. Determine the credibility of the data.\n",
        "\n",
        "*Deliverable*\n",
        "\n",
        "A description of all data sources used\n",
        "\n",
        "The main data source have data of previous 12 months from January - 2022 to December -2022 by the Cyclistic company.\n",
        "\n",
        "[1]: https://www.coursera.org/professional-certificates/google-data-analytics\n",
        "[2]: https://www.coursera.org\n",
        "[3]: https://divvy-tripdata.s3.amazonaws.com/index.html\n",
        "[4]: https://www.coursera.org/lecture/data-preparation/what-is-bad-data-lHirM"
      ]
    },
    {
      "cell_type": "markdown",
      "id": "1b95f2ce",
      "metadata": {
        "papermill": {
          "duration": 0.015029,
          "end_time": "2023-02-02T07:58:21.787464",
          "exception": false,
          "start_time": "2023-02-02T07:58:21.772435",
          "status": "completed"
        },
        "tags": [],
        "id": "1b95f2ce"
      },
      "source": [
        "**Process**\n",
        "\n",
        "In this process all the .csv files will be processed and merged into one .csv file where all the data from january to february will be present for process and analysis.\n",
        "\n",
        "**Code**\n",
        "\n",
        "*Required Packages*\n",
        "\n",
        "tidyverse,lubridate and ggplot2 are the packages i worked with in the R language by calling using library function."
      ]
    },
    {
      "cell_type": "code",
      "execution_count": null,
      "id": "6ce3e60f",
      "metadata": {
        "execution": {
          "iopub.execute_input": "2023-02-02T07:58:21.821972Z",
          "iopub.status.busy": "2023-02-02T07:58:21.820045Z",
          "iopub.status.idle": "2023-02-02T07:58:23.373468Z",
          "shell.execute_reply": "2023-02-02T07:58:23.371740Z"
        },
        "papermill": {
          "duration": 1.573401,
          "end_time": "2023-02-02T07:58:23.375923",
          "exception": false,
          "start_time": "2023-02-02T07:58:21.802522",
          "status": "completed"
        },
        "tags": [],
        "id": "6ce3e60f",
        "outputId": "784d9624-dca3-4321-b7da-1a2ee521da67"
      },
      "outputs": [
        {
          "name": "stderr",
          "output_type": "stream",
          "text": [
            "── \u001b[1mAttaching packages\u001b[22m ─────────────────────────────────────── tidyverse 1.3.2 ──\n",
            "\u001b[32m✔\u001b[39m \u001b[34mggplot2\u001b[39m 3.4.0      \u001b[32m✔\u001b[39m \u001b[34mpurrr  \u001b[39m 1.0.1 \n",
            "\u001b[32m✔\u001b[39m \u001b[34mtibble \u001b[39m 3.1.8      \u001b[32m✔\u001b[39m \u001b[34mdplyr  \u001b[39m 1.0.10\n",
            "\u001b[32m✔\u001b[39m \u001b[34mtidyr  \u001b[39m 1.2.1      \u001b[32m✔\u001b[39m \u001b[34mstringr\u001b[39m 1.5.0 \n",
            "\u001b[32m✔\u001b[39m \u001b[34mreadr  \u001b[39m 2.1.3      \u001b[32m✔\u001b[39m \u001b[34mforcats\u001b[39m 0.5.2 \n",
            "── \u001b[1mConflicts\u001b[22m ────────────────────────────────────────── tidyverse_conflicts() ──\n",
            "\u001b[31m✖\u001b[39m \u001b[34mdplyr\u001b[39m::\u001b[32mfilter()\u001b[39m masks \u001b[34mstats\u001b[39m::filter()\n",
            "\u001b[31m✖\u001b[39m \u001b[34mdplyr\u001b[39m::\u001b[32mlag()\u001b[39m    masks \u001b[34mstats\u001b[39m::lag()\n",
            "Loading required package: timechange\n",
            "\n",
            "\n",
            "Attaching package: ‘lubridate’\n",
            "\n",
            "\n",
            "The following objects are masked from ‘package:base’:\n",
            "\n",
            "    date, intersect, setdiff, union\n",
            "\n",
            "\n"
          ]
        }
      ],
      "source": [
        "library(tidyverse)\n",
        "library(lubridate)\n",
        "library(ggplot2)"
      ]
    },
    {
      "cell_type": "markdown",
      "id": "37c6c4c0",
      "metadata": {
        "papermill": {
          "duration": 0.014543,
          "end_time": "2023-02-02T07:58:23.405451",
          "exception": false,
          "start_time": "2023-02-02T07:58:23.390908",
          "status": "completed"
        },
        "tags": [],
        "id": "37c6c4c0"
      },
      "source": [
        "**Loading the .csv files into R.**"
      ]
    },
    {
      "cell_type": "code",
      "execution_count": null,
      "id": "b0ddb4ea",
      "metadata": {
        "execution": {
          "iopub.execute_input": "2023-02-02T07:58:23.466600Z",
          "iopub.status.busy": "2023-02-02T07:58:23.436327Z",
          "iopub.status.idle": "2023-02-02T07:58:57.853993Z",
          "shell.execute_reply": "2023-02-02T07:58:57.851159Z"
        },
        "papermill": {
          "duration": 34.437731,
          "end_time": "2023-02-02T07:58:57.857667",
          "exception": false,
          "start_time": "2023-02-02T07:58:23.419936",
          "status": "completed"
        },
        "tags": [],
        "id": "b0ddb4ea",
        "outputId": "0772e90b-66a4-4642-c00c-32b2a81ea886"
      },
      "outputs": [
        {
          "name": "stderr",
          "output_type": "stream",
          "text": [
            "\u001b[1mRows: \u001b[22m\u001b[34m103770\u001b[39m \u001b[1mColumns: \u001b[22m\u001b[34m13\u001b[39m\n",
            "\u001b[36m──\u001b[39m \u001b[1mColumn specification\u001b[22m \u001b[36m────────────────────────────────────────────────────────\u001b[39m\n",
            "\u001b[1mDelimiter:\u001b[22m \",\"\n",
            "\u001b[31mchr\u001b[39m  (7): ride_id, rideable_type, start_station_name, start_station_id, end_...\n",
            "\u001b[32mdbl\u001b[39m  (4): start_lat, start_lng, end_lat, end_lng\n",
            "\u001b[34mdttm\u001b[39m (2): started_at, ended_at\n",
            "\n",
            "\u001b[36mℹ\u001b[39m Use `spec()` to retrieve the full column specification for this data.\n",
            "\u001b[36mℹ\u001b[39m Specify the column types or set `show_col_types = FALSE` to quiet this message.\n",
            "\u001b[1mRows: \u001b[22m\u001b[34m115609\u001b[39m \u001b[1mColumns: \u001b[22m\u001b[34m13\u001b[39m\n",
            "\u001b[36m──\u001b[39m \u001b[1mColumn specification\u001b[22m \u001b[36m────────────────────────────────────────────────────────\u001b[39m\n",
            "\u001b[1mDelimiter:\u001b[22m \",\"\n",
            "\u001b[31mchr\u001b[39m  (7): ride_id, rideable_type, start_station_name, start_station_id, end_...\n",
            "\u001b[32mdbl\u001b[39m  (4): start_lat, start_lng, end_lat, end_lng\n",
            "\u001b[34mdttm\u001b[39m (2): started_at, ended_at\n",
            "\n",
            "\u001b[36mℹ\u001b[39m Use `spec()` to retrieve the full column specification for this data.\n",
            "\u001b[36mℹ\u001b[39m Specify the column types or set `show_col_types = FALSE` to quiet this message.\n",
            "\u001b[1mRows: \u001b[22m\u001b[34m284042\u001b[39m \u001b[1mColumns: \u001b[22m\u001b[34m13\u001b[39m\n",
            "\u001b[36m──\u001b[39m \u001b[1mColumn specification\u001b[22m \u001b[36m────────────────────────────────────────────────────────\u001b[39m\n",
            "\u001b[1mDelimiter:\u001b[22m \",\"\n",
            "\u001b[31mchr\u001b[39m  (7): ride_id, rideable_type, start_station_name, start_station_id, end_...\n",
            "\u001b[32mdbl\u001b[39m  (4): start_lat, start_lng, end_lat, end_lng\n",
            "\u001b[34mdttm\u001b[39m (2): started_at, ended_at\n",
            "\n",
            "\u001b[36mℹ\u001b[39m Use `spec()` to retrieve the full column specification for this data.\n",
            "\u001b[36mℹ\u001b[39m Specify the column types or set `show_col_types = FALSE` to quiet this message.\n",
            "\u001b[1mRows: \u001b[22m\u001b[34m371249\u001b[39m \u001b[1mColumns: \u001b[22m\u001b[34m13\u001b[39m\n",
            "\u001b[36m──\u001b[39m \u001b[1mColumn specification\u001b[22m \u001b[36m────────────────────────────────────────────────────────\u001b[39m\n",
            "\u001b[1mDelimiter:\u001b[22m \",\"\n",
            "\u001b[31mchr\u001b[39m  (7): ride_id, rideable_type, start_station_name, start_station_id, end_...\n",
            "\u001b[32mdbl\u001b[39m  (4): start_lat, start_lng, end_lat, end_lng\n",
            "\u001b[34mdttm\u001b[39m (2): started_at, ended_at\n",
            "\n",
            "\u001b[36mℹ\u001b[39m Use `spec()` to retrieve the full column specification for this data.\n",
            "\u001b[36mℹ\u001b[39m Specify the column types or set `show_col_types = FALSE` to quiet this message.\n",
            "\u001b[1mRows: \u001b[22m\u001b[34m634858\u001b[39m \u001b[1mColumns: \u001b[22m\u001b[34m13\u001b[39m\n",
            "\u001b[36m──\u001b[39m \u001b[1mColumn specification\u001b[22m \u001b[36m────────────────────────────────────────────────────────\u001b[39m\n",
            "\u001b[1mDelimiter:\u001b[22m \",\"\n",
            "\u001b[31mchr\u001b[39m  (7): ride_id, rideable_type, start_station_name, start_station_id, end_...\n",
            "\u001b[32mdbl\u001b[39m  (4): start_lat, start_lng, end_lat, end_lng\n",
            "\u001b[34mdttm\u001b[39m (2): started_at, ended_at\n",
            "\n",
            "\u001b[36mℹ\u001b[39m Use `spec()` to retrieve the full column specification for this data.\n",
            "\u001b[36mℹ\u001b[39m Specify the column types or set `show_col_types = FALSE` to quiet this message.\n",
            "\u001b[1mRows: \u001b[22m\u001b[34m769204\u001b[39m \u001b[1mColumns: \u001b[22m\u001b[34m13\u001b[39m\n",
            "\u001b[36m──\u001b[39m \u001b[1mColumn specification\u001b[22m \u001b[36m────────────────────────────────────────────────────────\u001b[39m\n",
            "\u001b[1mDelimiter:\u001b[22m \",\"\n",
            "\u001b[31mchr\u001b[39m  (7): ride_id, rideable_type, start_station_name, start_station_id, end_...\n",
            "\u001b[32mdbl\u001b[39m  (4): start_lat, start_lng, end_lat, end_lng\n",
            "\u001b[34mdttm\u001b[39m (2): started_at, ended_at\n",
            "\n",
            "\u001b[36mℹ\u001b[39m Use `spec()` to retrieve the full column specification for this data.\n",
            "\u001b[36mℹ\u001b[39m Specify the column types or set `show_col_types = FALSE` to quiet this message.\n",
            "\u001b[1mRows: \u001b[22m\u001b[34m823488\u001b[39m \u001b[1mColumns: \u001b[22m\u001b[34m13\u001b[39m\n",
            "\u001b[36m──\u001b[39m \u001b[1mColumn specification\u001b[22m \u001b[36m────────────────────────────────────────────────────────\u001b[39m\n",
            "\u001b[1mDelimiter:\u001b[22m \",\"\n",
            "\u001b[31mchr\u001b[39m  (7): ride_id, rideable_type, start_station_name, start_station_id, end_...\n",
            "\u001b[32mdbl\u001b[39m  (4): start_lat, start_lng, end_lat, end_lng\n",
            "\u001b[34mdttm\u001b[39m (2): started_at, ended_at\n",
            "\n",
            "\u001b[36mℹ\u001b[39m Use `spec()` to retrieve the full column specification for this data.\n",
            "\u001b[36mℹ\u001b[39m Specify the column types or set `show_col_types = FALSE` to quiet this message.\n",
            "\u001b[1mRows: \u001b[22m\u001b[34m785932\u001b[39m \u001b[1mColumns: \u001b[22m\u001b[34m13\u001b[39m\n",
            "\u001b[36m──\u001b[39m \u001b[1mColumn specification\u001b[22m \u001b[36m────────────────────────────────────────────────────────\u001b[39m\n",
            "\u001b[1mDelimiter:\u001b[22m \",\"\n",
            "\u001b[31mchr\u001b[39m  (7): ride_id, rideable_type, start_station_name, start_station_id, end_...\n",
            "\u001b[32mdbl\u001b[39m  (4): start_lat, start_lng, end_lat, end_lng\n",
            "\u001b[34mdttm\u001b[39m (2): started_at, ended_at\n",
            "\n",
            "\u001b[36mℹ\u001b[39m Use `spec()` to retrieve the full column specification for this data.\n",
            "\u001b[36mℹ\u001b[39m Specify the column types or set `show_col_types = FALSE` to quiet this message.\n",
            "\u001b[1mRows: \u001b[22m\u001b[34m701339\u001b[39m \u001b[1mColumns: \u001b[22m\u001b[34m13\u001b[39m\n",
            "\u001b[36m──\u001b[39m \u001b[1mColumn specification\u001b[22m \u001b[36m────────────────────────────────────────────────────────\u001b[39m\n",
            "\u001b[1mDelimiter:\u001b[22m \",\"\n",
            "\u001b[31mchr\u001b[39m  (7): ride_id, rideable_type, start_station_name, start_station_id, end_...\n",
            "\u001b[32mdbl\u001b[39m  (4): start_lat, start_lng, end_lat, end_lng\n",
            "\u001b[34mdttm\u001b[39m (2): started_at, ended_at\n",
            "\n",
            "\u001b[36mℹ\u001b[39m Use `spec()` to retrieve the full column specification for this data.\n",
            "\u001b[36mℹ\u001b[39m Specify the column types or set `show_col_types = FALSE` to quiet this message.\n",
            "\u001b[1mRows: \u001b[22m\u001b[34m558685\u001b[39m \u001b[1mColumns: \u001b[22m\u001b[34m13\u001b[39m\n",
            "\u001b[36m──\u001b[39m \u001b[1mColumn specification\u001b[22m \u001b[36m────────────────────────────────────────────────────────\u001b[39m\n",
            "\u001b[1mDelimiter:\u001b[22m \",\"\n",
            "\u001b[31mchr\u001b[39m  (7): ride_id, rideable_type, start_station_name, start_station_id, end_...\n",
            "\u001b[32mdbl\u001b[39m  (4): start_lat, start_lng, end_lat, end_lng\n",
            "\u001b[34mdttm\u001b[39m (2): started_at, ended_at\n",
            "\n",
            "\u001b[36mℹ\u001b[39m Use `spec()` to retrieve the full column specification for this data.\n",
            "\u001b[36mℹ\u001b[39m Specify the column types or set `show_col_types = FALSE` to quiet this message.\n",
            "\u001b[1mRows: \u001b[22m\u001b[34m337735\u001b[39m \u001b[1mColumns: \u001b[22m\u001b[34m13\u001b[39m\n",
            "\u001b[36m──\u001b[39m \u001b[1mColumn specification\u001b[22m \u001b[36m────────────────────────────────────────────────────────\u001b[39m\n",
            "\u001b[1mDelimiter:\u001b[22m \",\"\n",
            "\u001b[31mchr\u001b[39m  (7): ride_id, rideable_type, start_station_name, start_station_id, end_...\n",
            "\u001b[32mdbl\u001b[39m  (4): start_lat, start_lng, end_lat, end_lng\n",
            "\u001b[34mdttm\u001b[39m (2): started_at, ended_at\n",
            "\n",
            "\u001b[36mℹ\u001b[39m Use `spec()` to retrieve the full column specification for this data.\n",
            "\u001b[36mℹ\u001b[39m Specify the column types or set `show_col_types = FALSE` to quiet this message.\n",
            "\u001b[1mRows: \u001b[22m\u001b[34m181806\u001b[39m \u001b[1mColumns: \u001b[22m\u001b[34m13\u001b[39m\n",
            "\u001b[36m──\u001b[39m \u001b[1mColumn specification\u001b[22m \u001b[36m────────────────────────────────────────────────────────\u001b[39m\n",
            "\u001b[1mDelimiter:\u001b[22m \",\"\n",
            "\u001b[31mchr\u001b[39m  (7): ride_id, rideable_type, start_station_name, start_station_id, end_...\n",
            "\u001b[32mdbl\u001b[39m  (4): start_lat, start_lng, end_lat, end_lng\n",
            "\u001b[34mdttm\u001b[39m (2): started_at, ended_at\n",
            "\n",
            "\u001b[36mℹ\u001b[39m Use `spec()` to retrieve the full column specification for this data.\n",
            "\u001b[36mℹ\u001b[39m Specify the column types or set `show_col_types = FALSE` to quiet this message.\n"
          ]
        }
      ],
      "source": [
        "m1_2022 <- read_csv(\"/kaggle/input/cyclistic-dataset-of-2022/202201-divvy-tripdata.csv\")\n",
        "m2_2022 <- read_csv(\"/kaggle/input/cyclistic-dataset-of-2022/202202-divvy-tripdata.csv\")\n",
        "m3_2022 <- read_csv(\"/kaggle/input/cyclistic-dataset-of-2022/202203-divvy-tripdata.csv\")\n",
        "m4_2022 <- read_csv(\"/kaggle/input/cyclistic-dataset-of-2022/202204-divvy-tripdata.csv\")\n",
        "m5_2022 <- read_csv(\"/kaggle/input/cyclistic-dataset-of-2022/202205-divvy-tripdata.csv\")\n",
        "m6_2022 <- read_csv(\"/kaggle/input/cyclistic-dataset-of-2022/202206-divvy-tripdata.csv\")\n",
        "m7_2022 <- read_csv(\"/kaggle/input/cyclistic-dataset-of-2022/202207-divvy-tripdata.csv\")\n",
        "m8_2022 <- read_csv(\"/kaggle/input/cyclistic-dataset-of-2022/202208-divvy-tripdata.csv\")\n",
        "m9_2022 <- read_csv(\"/kaggle/input/cyclistic-dataset-of-2022/202209-divvy-tripdata.csv\")\n",
        "m10_2022 <- read_csv(\"/kaggle/input/cyclistic-dataset-of-2022/202210-divvy-tripdata.csv\")\n",
        "m11_2022 <- read_csv(\"/kaggle/input/cyclistic-dataset-of-2022/202211-divvy-tripdata.csv\")\n",
        "m12_2022 <- read_csv(\"/kaggle/input/cyclistic-dataset-of-2022/202212-divvy-tripdata.csv\")"
      ]
    },
    {
      "cell_type": "markdown",
      "id": "2e9c2473",
      "metadata": {
        "papermill": {
          "duration": 0.016651,
          "end_time": "2023-02-02T07:58:57.892217",
          "exception": false,
          "start_time": "2023-02-02T07:58:57.875566",
          "status": "completed"
        },
        "tags": [],
        "id": "2e9c2473"
      },
      "source": [
        "**Combining All the .csv files into one .csv file**"
      ]
    },
    {
      "cell_type": "code",
      "execution_count": null,
      "id": "8fe76dc4",
      "metadata": {
        "execution": {
          "iopub.execute_input": "2023-02-02T07:58:57.929696Z",
          "iopub.status.busy": "2023-02-02T07:58:57.927655Z",
          "iopub.status.idle": "2023-02-02T07:59:06.594871Z",
          "shell.execute_reply": "2023-02-02T07:59:06.593064Z"
        },
        "papermill": {
          "duration": 8.690107,
          "end_time": "2023-02-02T07:59:06.599011",
          "exception": false,
          "start_time": "2023-02-02T07:58:57.908904",
          "status": "completed"
        },
        "tags": [],
        "id": "8fe76dc4"
      },
      "outputs": [],
      "source": [
        "tips <- bind_rows(m1_2022,m2_2022,m3_2022,m4_2022,m5_2022,m6_2022,m7_2022,m8_2022,m9_2022,m10_2022,m11_2022,m12_2022)"
      ]
    },
    {
      "cell_type": "code",
      "execution_count": null,
      "id": "3e6b4f7c",
      "metadata": {
        "execution": {
          "iopub.execute_input": "2023-02-02T07:59:06.635489Z",
          "iopub.status.busy": "2023-02-02T07:59:06.634016Z",
          "iopub.status.idle": "2023-02-02T07:59:06.676626Z",
          "shell.execute_reply": "2023-02-02T07:59:06.674050Z"
        },
        "papermill": {
          "duration": 0.063722,
          "end_time": "2023-02-02T07:59:06.679524",
          "exception": false,
          "start_time": "2023-02-02T07:59:06.615802",
          "status": "completed"
        },
        "tags": [],
        "id": "3e6b4f7c",
        "outputId": "e414e94f-3d9d-4e86-99ad-8b8d854b1bcb"
      },
      "outputs": [
        {
          "data": {
            "text/html": [
              "<table class=\"dataframe\">\n",
              "<caption>A tibble: 6 × 13</caption>\n",
              "<thead>\n",
              "\t<tr><th scope=col>ride_id</th><th scope=col>rideable_type</th><th scope=col>started_at</th><th scope=col>ended_at</th><th scope=col>start_station_name</th><th scope=col>start_station_id</th><th scope=col>end_station_name</th><th scope=col>end_station_id</th><th scope=col>start_lat</th><th scope=col>start_lng</th><th scope=col>end_lat</th><th scope=col>end_lng</th><th scope=col>member_casual</th></tr>\n",
              "\t<tr><th scope=col>&lt;chr&gt;</th><th scope=col>&lt;chr&gt;</th><th scope=col>&lt;dttm&gt;</th><th scope=col>&lt;dttm&gt;</th><th scope=col>&lt;chr&gt;</th><th scope=col>&lt;chr&gt;</th><th scope=col>&lt;chr&gt;</th><th scope=col>&lt;chr&gt;</th><th scope=col>&lt;dbl&gt;</th><th scope=col>&lt;dbl&gt;</th><th scope=col>&lt;dbl&gt;</th><th scope=col>&lt;dbl&gt;</th><th scope=col>&lt;chr&gt;</th></tr>\n",
              "</thead>\n",
              "<tbody>\n",
              "\t<tr><td>C2F7DD78E82EC875</td><td>electric_bike</td><td>2022-01-13 11:59:47</td><td>2022-01-13 12:02:44</td><td><span style=white-space:pre-wrap>Glenwood Ave &amp; Touhy Ave     </span></td><td><span style=white-space:pre-wrap>525         </span></td><td><span style=white-space:pre-wrap>Clark St &amp; Touhy Ave         </span></td><td><span style=white-space:pre-wrap>RP-007      </span></td><td>42.01280</td><td>-87.66591</td><td>42.01256</td><td>-87.67437</td><td>casual</td></tr>\n",
              "\t<tr><td>A6CF8980A652D272</td><td>electric_bike</td><td>2022-01-10 08:41:56</td><td>2022-01-10 08:46:17</td><td><span style=white-space:pre-wrap>Glenwood Ave &amp; Touhy Ave     </span></td><td><span style=white-space:pre-wrap>525         </span></td><td><span style=white-space:pre-wrap>Clark St &amp; Touhy Ave         </span></td><td><span style=white-space:pre-wrap>RP-007      </span></td><td>42.01276</td><td>-87.66597</td><td>42.01256</td><td>-87.67437</td><td>casual</td></tr>\n",
              "\t<tr><td>BD0F91DFF741C66D</td><td>classic_bike </td><td>2022-01-25 04:53:40</td><td>2022-01-25 04:58:01</td><td>Sheffield Ave &amp; Fullerton Ave</td><td>TA1306000016</td><td>Greenview Ave &amp; Fullerton Ave</td><td>TA1307000001</td><td>41.92560</td><td>-87.65371</td><td>41.92533</td><td>-87.66580</td><td>member</td></tr>\n",
              "\t<tr><td>CBB80ED419105406</td><td>classic_bike </td><td>2022-01-04 00:18:04</td><td>2022-01-04 00:33:00</td><td><span style=white-space:pre-wrap>Clark St &amp; Bryn Mawr Ave     </span></td><td>KA1504000151</td><td><span style=white-space:pre-wrap>Paulina St &amp; Montrose Ave    </span></td><td>TA1309000021</td><td>41.98359</td><td>-87.66915</td><td>41.96151</td><td>-87.67139</td><td>casual</td></tr>\n",
              "\t<tr><td>DDC963BFDDA51EEA</td><td>classic_bike </td><td>2022-01-20 01:31:10</td><td>2022-01-20 01:37:12</td><td><span style=white-space:pre-wrap>Michigan Ave &amp; Jackson Blvd  </span></td><td>TA1309000002</td><td><span style=white-space:pre-wrap>State St &amp; Randolph St       </span></td><td>TA1305000029</td><td>41.87785</td><td>-87.62408</td><td>41.88462</td><td>-87.62783</td><td>member</td></tr>\n",
              "\t<tr><td>A39C6F6CC0586C0B</td><td>classic_bike </td><td>2022-01-11 18:48:09</td><td>2022-01-11 18:51:31</td><td><span style=white-space:pre-wrap>Wood St &amp; Chicago Ave        </span></td><td><span style=white-space:pre-wrap>637         </span></td><td><span style=white-space:pre-wrap>Honore St &amp; Division St      </span></td><td>TA1305000034</td><td>41.89563</td><td>-87.67207</td><td>41.90312</td><td>-87.67394</td><td>member</td></tr>\n",
              "</tbody>\n",
              "</table>\n"
            ],
            "text/latex": [
              "A tibble: 6 × 13\n",
              "\\begin{tabular}{lllllllllllll}\n",
              " ride\\_id & rideable\\_type & started\\_at & ended\\_at & start\\_station\\_name & start\\_station\\_id & end\\_station\\_name & end\\_station\\_id & start\\_lat & start\\_lng & end\\_lat & end\\_lng & member\\_casual\\\\\n",
              " <chr> & <chr> & <dttm> & <dttm> & <chr> & <chr> & <chr> & <chr> & <dbl> & <dbl> & <dbl> & <dbl> & <chr>\\\\\n",
              "\\hline\n",
              "\t C2F7DD78E82EC875 & electric\\_bike & 2022-01-13 11:59:47 & 2022-01-13 12:02:44 & Glenwood Ave \\& Touhy Ave      & 525          & Clark St \\& Touhy Ave          & RP-007       & 42.01280 & -87.66591 & 42.01256 & -87.67437 & casual\\\\\n",
              "\t A6CF8980A652D272 & electric\\_bike & 2022-01-10 08:41:56 & 2022-01-10 08:46:17 & Glenwood Ave \\& Touhy Ave      & 525          & Clark St \\& Touhy Ave          & RP-007       & 42.01276 & -87.66597 & 42.01256 & -87.67437 & casual\\\\\n",
              "\t BD0F91DFF741C66D & classic\\_bike  & 2022-01-25 04:53:40 & 2022-01-25 04:58:01 & Sheffield Ave \\& Fullerton Ave & TA1306000016 & Greenview Ave \\& Fullerton Ave & TA1307000001 & 41.92560 & -87.65371 & 41.92533 & -87.66580 & member\\\\\n",
              "\t CBB80ED419105406 & classic\\_bike  & 2022-01-04 00:18:04 & 2022-01-04 00:33:00 & Clark St \\& Bryn Mawr Ave      & KA1504000151 & Paulina St \\& Montrose Ave     & TA1309000021 & 41.98359 & -87.66915 & 41.96151 & -87.67139 & casual\\\\\n",
              "\t DDC963BFDDA51EEA & classic\\_bike  & 2022-01-20 01:31:10 & 2022-01-20 01:37:12 & Michigan Ave \\& Jackson Blvd   & TA1309000002 & State St \\& Randolph St        & TA1305000029 & 41.87785 & -87.62408 & 41.88462 & -87.62783 & member\\\\\n",
              "\t A39C6F6CC0586C0B & classic\\_bike  & 2022-01-11 18:48:09 & 2022-01-11 18:51:31 & Wood St \\& Chicago Ave         & 637          & Honore St \\& Division St       & TA1305000034 & 41.89563 & -87.67207 & 41.90312 & -87.67394 & member\\\\\n",
              "\\end{tabular}\n"
            ],
            "text/markdown": [
              "\n",
              "A tibble: 6 × 13\n",
              "\n",
              "| ride_id &lt;chr&gt; | rideable_type &lt;chr&gt; | started_at &lt;dttm&gt; | ended_at &lt;dttm&gt; | start_station_name &lt;chr&gt; | start_station_id &lt;chr&gt; | end_station_name &lt;chr&gt; | end_station_id &lt;chr&gt; | start_lat &lt;dbl&gt; | start_lng &lt;dbl&gt; | end_lat &lt;dbl&gt; | end_lng &lt;dbl&gt; | member_casual &lt;chr&gt; |\n",
              "|---|---|---|---|---|---|---|---|---|---|---|---|---|\n",
              "| C2F7DD78E82EC875 | electric_bike | 2022-01-13 11:59:47 | 2022-01-13 12:02:44 | Glenwood Ave &amp; Touhy Ave      | 525          | Clark St &amp; Touhy Ave          | RP-007       | 42.01280 | -87.66591 | 42.01256 | -87.67437 | casual |\n",
              "| A6CF8980A652D272 | electric_bike | 2022-01-10 08:41:56 | 2022-01-10 08:46:17 | Glenwood Ave &amp; Touhy Ave      | 525          | Clark St &amp; Touhy Ave          | RP-007       | 42.01276 | -87.66597 | 42.01256 | -87.67437 | casual |\n",
              "| BD0F91DFF741C66D | classic_bike  | 2022-01-25 04:53:40 | 2022-01-25 04:58:01 | Sheffield Ave &amp; Fullerton Ave | TA1306000016 | Greenview Ave &amp; Fullerton Ave | TA1307000001 | 41.92560 | -87.65371 | 41.92533 | -87.66580 | member |\n",
              "| CBB80ED419105406 | classic_bike  | 2022-01-04 00:18:04 | 2022-01-04 00:33:00 | Clark St &amp; Bryn Mawr Ave      | KA1504000151 | Paulina St &amp; Montrose Ave     | TA1309000021 | 41.98359 | -87.66915 | 41.96151 | -87.67139 | casual |\n",
              "| DDC963BFDDA51EEA | classic_bike  | 2022-01-20 01:31:10 | 2022-01-20 01:37:12 | Michigan Ave &amp; Jackson Blvd   | TA1309000002 | State St &amp; Randolph St        | TA1305000029 | 41.87785 | -87.62408 | 41.88462 | -87.62783 | member |\n",
              "| A39C6F6CC0586C0B | classic_bike  | 2022-01-11 18:48:09 | 2022-01-11 18:51:31 | Wood St &amp; Chicago Ave         | 637          | Honore St &amp; Division St       | TA1305000034 | 41.89563 | -87.67207 | 41.90312 | -87.67394 | member |\n",
              "\n"
            ],
            "text/plain": [
              "  ride_id          rideable_type started_at          ended_at           \n",
              "1 C2F7DD78E82EC875 electric_bike 2022-01-13 11:59:47 2022-01-13 12:02:44\n",
              "2 A6CF8980A652D272 electric_bike 2022-01-10 08:41:56 2022-01-10 08:46:17\n",
              "3 BD0F91DFF741C66D classic_bike  2022-01-25 04:53:40 2022-01-25 04:58:01\n",
              "4 CBB80ED419105406 classic_bike  2022-01-04 00:18:04 2022-01-04 00:33:00\n",
              "5 DDC963BFDDA51EEA classic_bike  2022-01-20 01:31:10 2022-01-20 01:37:12\n",
              "6 A39C6F6CC0586C0B classic_bike  2022-01-11 18:48:09 2022-01-11 18:51:31\n",
              "  start_station_name            start_station_id end_station_name             \n",
              "1 Glenwood Ave & Touhy Ave      525              Clark St & Touhy Ave         \n",
              "2 Glenwood Ave & Touhy Ave      525              Clark St & Touhy Ave         \n",
              "3 Sheffield Ave & Fullerton Ave TA1306000016     Greenview Ave & Fullerton Ave\n",
              "4 Clark St & Bryn Mawr Ave      KA1504000151     Paulina St & Montrose Ave    \n",
              "5 Michigan Ave & Jackson Blvd   TA1309000002     State St & Randolph St       \n",
              "6 Wood St & Chicago Ave         637              Honore St & Division St      \n",
              "  end_station_id start_lat start_lng end_lat  end_lng   member_casual\n",
              "1 RP-007         42.01280  -87.66591 42.01256 -87.67437 casual       \n",
              "2 RP-007         42.01276  -87.66597 42.01256 -87.67437 casual       \n",
              "3 TA1307000001   41.92560  -87.65371 41.92533 -87.66580 member       \n",
              "4 TA1309000021   41.98359  -87.66915 41.96151 -87.67139 casual       \n",
              "5 TA1305000029   41.87785  -87.62408 41.88462 -87.62783 member       \n",
              "6 TA1305000034   41.89563  -87.67207 41.90312 -87.67394 member       "
            ]
          },
          "metadata": {},
          "output_type": "display_data"
        }
      ],
      "source": [
        "head(tips)"
      ]
    },
    {
      "cell_type": "markdown",
      "id": "953ae962",
      "metadata": {
        "papermill": {
          "duration": 0.016634,
          "end_time": "2023-02-02T07:59:06.712883",
          "exception": false,
          "start_time": "2023-02-02T07:59:06.696249",
          "status": "completed"
        },
        "tags": [],
        "id": "953ae962"
      },
      "source": [
        "**Cleaning the dataset**\n",
        "\n",
        "We clean the dataset by eliminating rows which contains NULL/NA values and also removing duplicate values present in the dataset which can effect data analysis and won't return optimum results.\n",
        "\n",
        "Before doing that it is a good practice to make a copy of the dataset."
      ]
    },
    {
      "cell_type": "code",
      "execution_count": null,
      "id": "40b34c59",
      "metadata": {
        "execution": {
          "iopub.execute_input": "2023-02-02T07:59:06.750053Z",
          "iopub.status.busy": "2023-02-02T07:59:06.748576Z",
          "iopub.status.idle": "2023-02-02T07:59:18.963350Z",
          "shell.execute_reply": "2023-02-02T07:59:18.961707Z"
        },
        "papermill": {
          "duration": 12.236343,
          "end_time": "2023-02-02T07:59:18.965920",
          "exception": false,
          "start_time": "2023-02-02T07:59:06.729577",
          "status": "completed"
        },
        "tags": [],
        "id": "40b34c59",
        "outputId": "c216f260-e2cc-4fae-c5d8-c4e853a40c8d"
      },
      "outputs": [
        {
          "data": {
            "text/html": [
              "<style>\n",
              ".dl-inline {width: auto; margin:0; padding: 0}\n",
              ".dl-inline>dt, .dl-inline>dd {float: none; width: auto; display: inline-block}\n",
              ".dl-inline>dt::after {content: \":\\0020\"; padding-right: .5ex}\n",
              ".dl-inline>dt:not(:first-of-type) {padding-left: .5ex}\n",
              "</style><dl class=dl-inline><dt>ride_id</dt><dd>0</dd><dt>rideable_type</dt><dd>0</dd><dt>started_at</dt><dd>0</dd><dt>ended_at</dt><dd>0</dd><dt>start_station_name</dt><dd>405615</dd><dt>start_station_id</dt><dd>405615</dd><dt>end_station_name</dt><dd>0</dd><dt>end_station_id</dt><dd>0</dd><dt>member_casual</dt><dd>0</dd></dl>\n"
            ],
            "text/latex": [
              "\\begin{description*}\n",
              "\\item[ride\\textbackslash{}\\_id] 0\n",
              "\\item[rideable\\textbackslash{}\\_type] 0\n",
              "\\item[started\\textbackslash{}\\_at] 0\n",
              "\\item[ended\\textbackslash{}\\_at] 0\n",
              "\\item[start\\textbackslash{}\\_station\\textbackslash{}\\_name] 405615\n",
              "\\item[start\\textbackslash{}\\_station\\textbackslash{}\\_id] 405615\n",
              "\\item[end\\textbackslash{}\\_station\\textbackslash{}\\_name] 0\n",
              "\\item[end\\textbackslash{}\\_station\\textbackslash{}\\_id] 0\n",
              "\\item[member\\textbackslash{}\\_casual] 0\n",
              "\\end{description*}\n"
            ],
            "text/markdown": [
              "ride_id\n",
              ":   0rideable_type\n",
              ":   0started_at\n",
              ":   0ended_at\n",
              ":   0start_station_name\n",
              ":   405615start_station_id\n",
              ":   405615end_station_name\n",
              ":   0end_station_id\n",
              ":   0member_casual\n",
              ":   0\n",
              "\n"
            ],
            "text/plain": [
              "           ride_id      rideable_type         started_at           ended_at \n",
              "                 0                  0                  0                  0 \n",
              "start_station_name   start_station_id   end_station_name     end_station_id \n",
              "            405615             405615                  0                  0 \n",
              "     member_casual \n",
              "                 0 "
            ]
          },
          "metadata": {},
          "output_type": "display_data"
        }
      ],
      "source": [
        "tips <- tips %>%\n",
        "  select(-c(start_lat,start_lng,end_lat,end_lng)) # Deleting Columns which are not needed\n",
        "\n",
        "tips_1<-tips                                       # making a copy of the dataset\n",
        "tips_1 <- tips[!is.na(tips$start_station_name),]\n",
        "tips_1 <- tips[!is.na(tips$start_station_id),]         # Removing NA values present in dataset\n",
        "tips_1 <- tips[!is.na(tips$end_station_name),]\n",
        "tips_1 <- tips[!is.na(tips$end_station_id),]\n",
        "colSums(is.na(tips_1))\n"
      ]
    },
    {
      "cell_type": "markdown",
      "id": "53db3abb",
      "metadata": {
        "papermill": {
          "duration": 0.01741,
          "end_time": "2023-02-02T07:59:19.001190",
          "exception": false,
          "start_time": "2023-02-02T07:59:18.983780",
          "status": "completed"
        },
        "tags": [],
        "id": "53db3abb"
      },
      "source": [
        "As we cann see there 9 columns in the dataframe where *start_station_name* & *start_station_id* got alot of NA values so it's better to remove these coloumns"
      ]
    },
    {
      "cell_type": "code",
      "execution_count": null,
      "id": "3426d728",
      "metadata": {
        "execution": {
          "iopub.execute_input": "2023-02-02T07:59:19.039079Z",
          "iopub.status.busy": "2023-02-02T07:59:19.037621Z",
          "iopub.status.idle": "2023-02-02T07:59:20.055371Z",
          "shell.execute_reply": "2023-02-02T07:59:20.053658Z"
        },
        "papermill": {
          "duration": 1.039189,
          "end_time": "2023-02-02T07:59:20.057800",
          "exception": false,
          "start_time": "2023-02-02T07:59:19.018611",
          "status": "completed"
        },
        "tags": [],
        "id": "3426d728",
        "outputId": "b162cac9-a649-478f-8964-cf0e80031603"
      },
      "outputs": [
        {
          "data": {
            "text/html": [
              "<style>\n",
              ".list-inline {list-style: none; margin:0; padding: 0}\n",
              ".list-inline>li {display: inline-block}\n",
              ".list-inline>li:not(:last-child)::after {content: \"\\00b7\"; padding: 0 .5ex}\n",
              "</style>\n",
              "<ol class=list-inline><li>'ride_id'</li><li>'rideable_type'</li><li>'started_at'</li><li>'ended_at'</li><li>'end_station_name'</li><li>'member_casual'</li></ol>\n"
            ],
            "text/latex": [
              "\\begin{enumerate*}\n",
              "\\item 'ride\\_id'\n",
              "\\item 'rideable\\_type'\n",
              "\\item 'started\\_at'\n",
              "\\item 'ended\\_at'\n",
              "\\item 'end\\_station\\_name'\n",
              "\\item 'member\\_casual'\n",
              "\\end{enumerate*}\n"
            ],
            "text/markdown": [
              "1. 'ride_id'\n",
              "2. 'rideable_type'\n",
              "3. 'started_at'\n",
              "4. 'ended_at'\n",
              "5. 'end_station_name'\n",
              "6. 'member_casual'\n",
              "\n",
              "\n"
            ],
            "text/plain": [
              "[1] \"ride_id\"          \"rideable_type\"    \"started_at\"       \"ended_at\"        \n",
              "[5] \"end_station_name\" \"member_casual\"   "
            ]
          },
          "metadata": {},
          "output_type": "display_data"
        }
      ],
      "source": [
        "tips_1 <- subset(tips_1,select=-c(start_station_name,start_station_id,end_station_id))\n",
        "colnames(tips_1)"
      ]
    },
    {
      "cell_type": "markdown",
      "id": "bfcfada9",
      "metadata": {
        "papermill": {
          "duration": 0.017253,
          "end_time": "2023-02-02T07:59:20.092402",
          "exception": false,
          "start_time": "2023-02-02T07:59:20.075149",
          "status": "completed"
        },
        "tags": [],
        "id": "bfcfada9"
      },
      "source": [
        "**Calculating Ride time for every ride**"
      ]
    },
    {
      "cell_type": "code",
      "execution_count": null,
      "id": "fe85bde2",
      "metadata": {
        "execution": {
          "iopub.execute_input": "2023-02-02T07:59:20.130906Z",
          "iopub.status.busy": "2023-02-02T07:59:20.129365Z",
          "iopub.status.idle": "2023-02-02T07:59:20.319319Z",
          "shell.execute_reply": "2023-02-02T07:59:20.317512Z"
        },
        "papermill": {
          "duration": 0.21184,
          "end_time": "2023-02-02T07:59:20.321780",
          "exception": false,
          "start_time": "2023-02-02T07:59:20.109940",
          "status": "completed"
        },
        "tags": [],
        "id": "fe85bde2"
      },
      "outputs": [],
      "source": [
        "tips_1 <- tips_1 %>%\n",
        "  mutate(ride_time_m = as.numeric(tips_1$ended_at - tips_1$started_at) / 60)"
      ]
    },
    {
      "cell_type": "code",
      "execution_count": null,
      "id": "c4043533",
      "metadata": {
        "execution": {
          "iopub.execute_input": "2023-02-02T07:59:20.359850Z",
          "iopub.status.busy": "2023-02-02T07:59:20.358304Z",
          "iopub.status.idle": "2023-02-02T07:59:20.385761Z",
          "shell.execute_reply": "2023-02-02T07:59:20.384018Z"
        },
        "papermill": {
          "duration": 0.048988,
          "end_time": "2023-02-02T07:59:20.388148",
          "exception": false,
          "start_time": "2023-02-02T07:59:20.339160",
          "status": "completed"
        },
        "tags": [],
        "id": "c4043533",
        "outputId": "031360be-dc10-4397-a26f-e9881d2b4e93"
      },
      "outputs": [
        {
          "data": {
            "text/html": [
              "<table class=\"dataframe\">\n",
              "<caption>A tibble: 6 × 7</caption>\n",
              "<thead>\n",
              "\t<tr><th scope=col>ride_id</th><th scope=col>rideable_type</th><th scope=col>started_at</th><th scope=col>ended_at</th><th scope=col>end_station_name</th><th scope=col>member_casual</th><th scope=col>ride_time_m</th></tr>\n",
              "\t<tr><th scope=col>&lt;chr&gt;</th><th scope=col>&lt;chr&gt;</th><th scope=col>&lt;dttm&gt;</th><th scope=col>&lt;dttm&gt;</th><th scope=col>&lt;chr&gt;</th><th scope=col>&lt;chr&gt;</th><th scope=col>&lt;dbl&gt;</th></tr>\n",
              "</thead>\n",
              "<tbody>\n",
              "\t<tr><td>C2F7DD78E82EC875</td><td>electric_bike</td><td>2022-01-13 11:59:47</td><td>2022-01-13 12:02:44</td><td><span style=white-space:pre-wrap>Clark St &amp; Touhy Ave         </span></td><td>casual</td><td> 2.950000</td></tr>\n",
              "\t<tr><td>A6CF8980A652D272</td><td>electric_bike</td><td>2022-01-10 08:41:56</td><td>2022-01-10 08:46:17</td><td><span style=white-space:pre-wrap>Clark St &amp; Touhy Ave         </span></td><td>casual</td><td> 4.350000</td></tr>\n",
              "\t<tr><td>BD0F91DFF741C66D</td><td>classic_bike </td><td>2022-01-25 04:53:40</td><td>2022-01-25 04:58:01</td><td>Greenview Ave &amp; Fullerton Ave</td><td>member</td><td> 4.350000</td></tr>\n",
              "\t<tr><td>CBB80ED419105406</td><td>classic_bike </td><td>2022-01-04 00:18:04</td><td>2022-01-04 00:33:00</td><td><span style=white-space:pre-wrap>Paulina St &amp; Montrose Ave    </span></td><td>casual</td><td>14.933333</td></tr>\n",
              "\t<tr><td>DDC963BFDDA51EEA</td><td>classic_bike </td><td>2022-01-20 01:31:10</td><td>2022-01-20 01:37:12</td><td><span style=white-space:pre-wrap>State St &amp; Randolph St       </span></td><td>member</td><td> 6.033333</td></tr>\n",
              "\t<tr><td>A39C6F6CC0586C0B</td><td>classic_bike </td><td>2022-01-11 18:48:09</td><td>2022-01-11 18:51:31</td><td><span style=white-space:pre-wrap>Honore St &amp; Division St      </span></td><td>member</td><td> 3.366667</td></tr>\n",
              "</tbody>\n",
              "</table>\n"
            ],
            "text/latex": [
              "A tibble: 6 × 7\n",
              "\\begin{tabular}{lllllll}\n",
              " ride\\_id & rideable\\_type & started\\_at & ended\\_at & end\\_station\\_name & member\\_casual & ride\\_time\\_m\\\\\n",
              " <chr> & <chr> & <dttm> & <dttm> & <chr> & <chr> & <dbl>\\\\\n",
              "\\hline\n",
              "\t C2F7DD78E82EC875 & electric\\_bike & 2022-01-13 11:59:47 & 2022-01-13 12:02:44 & Clark St \\& Touhy Ave          & casual &  2.950000\\\\\n",
              "\t A6CF8980A652D272 & electric\\_bike & 2022-01-10 08:41:56 & 2022-01-10 08:46:17 & Clark St \\& Touhy Ave          & casual &  4.350000\\\\\n",
              "\t BD0F91DFF741C66D & classic\\_bike  & 2022-01-25 04:53:40 & 2022-01-25 04:58:01 & Greenview Ave \\& Fullerton Ave & member &  4.350000\\\\\n",
              "\t CBB80ED419105406 & classic\\_bike  & 2022-01-04 00:18:04 & 2022-01-04 00:33:00 & Paulina St \\& Montrose Ave     & casual & 14.933333\\\\\n",
              "\t DDC963BFDDA51EEA & classic\\_bike  & 2022-01-20 01:31:10 & 2022-01-20 01:37:12 & State St \\& Randolph St        & member &  6.033333\\\\\n",
              "\t A39C6F6CC0586C0B & classic\\_bike  & 2022-01-11 18:48:09 & 2022-01-11 18:51:31 & Honore St \\& Division St       & member &  3.366667\\\\\n",
              "\\end{tabular}\n"
            ],
            "text/markdown": [
              "\n",
              "A tibble: 6 × 7\n",
              "\n",
              "| ride_id &lt;chr&gt; | rideable_type &lt;chr&gt; | started_at &lt;dttm&gt; | ended_at &lt;dttm&gt; | end_station_name &lt;chr&gt; | member_casual &lt;chr&gt; | ride_time_m &lt;dbl&gt; |\n",
              "|---|---|---|---|---|---|---|\n",
              "| C2F7DD78E82EC875 | electric_bike | 2022-01-13 11:59:47 | 2022-01-13 12:02:44 | Clark St &amp; Touhy Ave          | casual |  2.950000 |\n",
              "| A6CF8980A652D272 | electric_bike | 2022-01-10 08:41:56 | 2022-01-10 08:46:17 | Clark St &amp; Touhy Ave          | casual |  4.350000 |\n",
              "| BD0F91DFF741C66D | classic_bike  | 2022-01-25 04:53:40 | 2022-01-25 04:58:01 | Greenview Ave &amp; Fullerton Ave | member |  4.350000 |\n",
              "| CBB80ED419105406 | classic_bike  | 2022-01-04 00:18:04 | 2022-01-04 00:33:00 | Paulina St &amp; Montrose Ave     | casual | 14.933333 |\n",
              "| DDC963BFDDA51EEA | classic_bike  | 2022-01-20 01:31:10 | 2022-01-20 01:37:12 | State St &amp; Randolph St        | member |  6.033333 |\n",
              "| A39C6F6CC0586C0B | classic_bike  | 2022-01-11 18:48:09 | 2022-01-11 18:51:31 | Honore St &amp; Division St       | member |  3.366667 |\n",
              "\n"
            ],
            "text/plain": [
              "  ride_id          rideable_type started_at          ended_at           \n",
              "1 C2F7DD78E82EC875 electric_bike 2022-01-13 11:59:47 2022-01-13 12:02:44\n",
              "2 A6CF8980A652D272 electric_bike 2022-01-10 08:41:56 2022-01-10 08:46:17\n",
              "3 BD0F91DFF741C66D classic_bike  2022-01-25 04:53:40 2022-01-25 04:58:01\n",
              "4 CBB80ED419105406 classic_bike  2022-01-04 00:18:04 2022-01-04 00:33:00\n",
              "5 DDC963BFDDA51EEA classic_bike  2022-01-20 01:31:10 2022-01-20 01:37:12\n",
              "6 A39C6F6CC0586C0B classic_bike  2022-01-11 18:48:09 2022-01-11 18:51:31\n",
              "  end_station_name              member_casual ride_time_m\n",
              "1 Clark St & Touhy Ave          casual         2.950000  \n",
              "2 Clark St & Touhy Ave          casual         4.350000  \n",
              "3 Greenview Ave & Fullerton Ave member         4.350000  \n",
              "4 Paulina St & Montrose Ave     casual        14.933333  \n",
              "5 State St & Randolph St        member         6.033333  \n",
              "6 Honore St & Division St       member         3.366667  "
            ]
          },
          "metadata": {},
          "output_type": "display_data"
        }
      ],
      "source": [
        "head(tips_1)"
      ]
    },
    {
      "cell_type": "markdown",
      "id": "7192c861",
      "metadata": {
        "papermill": {
          "duration": 0.018299,
          "end_time": "2023-02-02T07:59:20.424041",
          "exception": false,
          "start_time": "2023-02-02T07:59:20.405742",
          "status": "completed"
        },
        "tags": [],
        "id": "7192c861"
      },
      "source": [
        "As we can see here *ride_time_m* stands for every length of ride in minutes"
      ]
    },
    {
      "cell_type": "markdown",
      "id": "130fbafb",
      "metadata": {
        "papermill": {
          "duration": 0.017511,
          "end_time": "2023-02-02T07:59:20.459179",
          "exception": false,
          "start_time": "2023-02-02T07:59:20.441668",
          "status": "completed"
        },
        "tags": [],
        "id": "130fbafb"
      },
      "source": [
        "**Changing the required Datetime formats**"
      ]
    },
    {
      "cell_type": "code",
      "execution_count": null,
      "id": "df1dcc3d",
      "metadata": {
        "execution": {
          "iopub.execute_input": "2023-02-02T07:59:20.498357Z",
          "iopub.status.busy": "2023-02-02T07:59:20.496871Z",
          "iopub.status.idle": "2023-02-02T08:00:27.433573Z",
          "shell.execute_reply": "2023-02-02T08:00:27.431706Z"
        },
        "papermill": {
          "duration": 66.959681,
          "end_time": "2023-02-02T08:00:27.436477",
          "exception": false,
          "start_time": "2023-02-02T07:59:20.476796",
          "status": "completed"
        },
        "tags": [],
        "id": "df1dcc3d"
      },
      "outputs": [],
      "source": [
        "tips_1$started_at <- format(as.POSIXct(tips_1$started_at,\"%Y-%m-%d %H:%M:%S\"))\n",
        "tips_1$ended_at <- format(as.POSIXct(tips_1$ended_at,\"%Y-%m-%d %H:%M:%S\"))\n"
      ]
    },
    {
      "cell_type": "markdown",
      "id": "7057de51",
      "metadata": {
        "papermill": {
          "duration": 0.018159,
          "end_time": "2023-02-02T08:00:27.474736",
          "exception": false,
          "start_time": "2023-02-02T08:00:27.456577",
          "status": "completed"
        },
        "tags": [],
        "id": "7057de51"
      },
      "source": [
        "**Data Manipulation**\n",
        "\n",
        "Creating additional data from the given data to make it more easier"
      ]
    },
    {
      "cell_type": "markdown",
      "id": "b76215dc",
      "metadata": {
        "papermill": {
          "duration": 0.062805,
          "end_time": "2023-02-02T08:00:27.555976",
          "exception": false,
          "start_time": "2023-02-02T08:00:27.493171",
          "status": "completed"
        },
        "tags": [],
        "id": "b76215dc"
      },
      "source": [
        "**Creating hour column**\n",
        "\n",
        "in this column the every value indicates to the time when the ride ended"
      ]
    },
    {
      "cell_type": "code",
      "execution_count": null,
      "id": "10f053a9",
      "metadata": {
        "execution": {
          "iopub.execute_input": "2023-02-02T08:00:27.595869Z",
          "iopub.status.busy": "2023-02-02T08:00:27.594346Z",
          "iopub.status.idle": "2023-02-02T08:00:42.150903Z",
          "shell.execute_reply": "2023-02-02T08:00:42.148954Z"
        },
        "papermill": {
          "duration": 14.579164,
          "end_time": "2023-02-02T08:00:42.153271",
          "exception": false,
          "start_time": "2023-02-02T08:00:27.574107",
          "status": "completed"
        },
        "tags": [],
        "id": "10f053a9"
      },
      "outputs": [],
      "source": [
        "tips_1 <- tips_1 %>%\n",
        "  mutate(started_hour= strftime(tips_1$ended_at, \"%H\"))"
      ]
    },
    {
      "cell_type": "markdown",
      "id": "e0564af1",
      "metadata": {
        "papermill": {
          "duration": 0.017861,
          "end_time": "2023-02-02T08:00:42.188687",
          "exception": false,
          "start_time": "2023-02-02T08:00:42.170826",
          "status": "completed"
        },
        "tags": [],
        "id": "e0564af1"
      },
      "source": [
        "**Creating weekday column**\n",
        "\n",
        "in this column evey value is saved as the day of week"
      ]
    },
    {
      "cell_type": "code",
      "execution_count": null,
      "id": "ed607e32",
      "metadata": {
        "execution": {
          "iopub.execute_input": "2023-02-02T08:00:42.230298Z",
          "iopub.status.busy": "2023-02-02T08:00:42.228648Z",
          "iopub.status.idle": "2023-02-02T08:00:54.952808Z",
          "shell.execute_reply": "2023-02-02T08:00:54.950599Z"
        },
        "papermill": {
          "duration": 12.748696,
          "end_time": "2023-02-02T08:00:54.955575",
          "exception": false,
          "start_time": "2023-02-02T08:00:42.206879",
          "status": "completed"
        },
        "tags": [],
        "id": "ed607e32"
      },
      "outputs": [],
      "source": [
        "tips_1 <- tips_1 %>%\n",
        "  mutate(weekday = strftime(tips_1$ended_at, \"%a\"))"
      ]
    },
    {
      "cell_type": "markdown",
      "id": "c84b0c39",
      "metadata": {
        "papermill": {
          "duration": 0.020614,
          "end_time": "2023-02-02T08:00:54.994409",
          "exception": false,
          "start_time": "2023-02-02T08:00:54.973795",
          "status": "completed"
        },
        "tags": [],
        "id": "c84b0c39"
      },
      "source": [
        "**Creating month column**\n",
        "\n",
        "in this column every data indicates the month"
      ]
    },
    {
      "cell_type": "code",
      "execution_count": null,
      "id": "14391e7e",
      "metadata": {
        "execution": {
          "iopub.execute_input": "2023-02-02T08:00:55.035812Z",
          "iopub.status.busy": "2023-02-02T08:00:55.034300Z",
          "iopub.status.idle": "2023-02-02T08:01:22.417355Z",
          "shell.execute_reply": "2023-02-02T08:01:22.415529Z"
        },
        "papermill": {
          "duration": 27.406939,
          "end_time": "2023-02-02T08:01:22.420289",
          "exception": false,
          "start_time": "2023-02-02T08:00:55.013350",
          "status": "completed"
        },
        "tags": [],
        "id": "14391e7e"
      },
      "outputs": [],
      "source": [
        "tips_1 <- tips_1 %>%\n",
        "  mutate(month = paste(strftime(tips_1$started_at, \"%m\"),paste(\"(\", strftime(tips_1$started_at,\"%b\"),\")\",sep = \" \")))"
      ]
    },
    {
      "cell_type": "code",
      "execution_count": null,
      "id": "a39eb397",
      "metadata": {
        "execution": {
          "iopub.execute_input": "2023-02-02T08:01:22.460246Z",
          "iopub.status.busy": "2023-02-02T08:01:22.458734Z",
          "iopub.status.idle": "2023-02-02T08:01:22.904918Z",
          "shell.execute_reply": "2023-02-02T08:01:22.903168Z"
        },
        "papermill": {
          "duration": 0.468655,
          "end_time": "2023-02-02T08:01:22.907521",
          "exception": false,
          "start_time": "2023-02-02T08:01:22.438866",
          "status": "completed"
        },
        "tags": [],
        "id": "a39eb397",
        "outputId": "4abf1dc6-3231-41c6-f7dd-0dc3700423f2"
      },
      "outputs": [
        {
          "data": {
            "text/plain": [
              "   ride_id          rideable_type       started_at          ended_at        \n",
              " Length:4774975     Length:4774975     Length:4774975     Length:4774975    \n",
              " Class :character   Class :character   Class :character   Class :character  \n",
              " Mode  :character   Mode  :character   Mode  :character   Mode  :character  \n",
              "                                                                            \n",
              "                                                                            \n",
              "                                                                            \n",
              " end_station_name   member_casual       ride_time_m       started_hour      \n",
              " Length:4774975     Length:4774975     Min.   : -168.70   Length:4774975    \n",
              " Class :character   Class :character   1st Qu.:    6.03   Class :character  \n",
              " Mode  :character   Mode  :character   Median :   10.55   Mode  :character  \n",
              "                                       Mean   :   16.81                     \n",
              "                                       3rd Qu.:   18.80                     \n",
              "                                       Max.   :34354.07                     \n",
              "   weekday             month          \n",
              " Length:4774975     Length:4774975    \n",
              " Class :character   Class :character  \n",
              " Mode  :character   Mode  :character  \n",
              "                                      \n",
              "                                      \n",
              "                                      "
            ]
          },
          "metadata": {},
          "output_type": "display_data"
        }
      ],
      "source": [
        "summary(tips_1)"
      ]
    },
    {
      "cell_type": "markdown",
      "id": "5368e58c",
      "metadata": {
        "papermill": {
          "duration": 0.018767,
          "end_time": "2023-02-02T08:01:22.944287",
          "exception": false,
          "start_time": "2023-02-02T08:01:22.925520",
          "status": "completed"
        },
        "tags": [],
        "id": "5368e58c"
      },
      "source": [
        "The above summary of the dataframe shows some new columns we just created like *started_hour*,*weekday* & *month* now we will look more into the new data columns"
      ]
    },
    {
      "cell_type": "code",
      "execution_count": null,
      "id": "f08c1d88",
      "metadata": {
        "execution": {
          "iopub.execute_input": "2023-02-02T08:01:22.983103Z",
          "iopub.status.busy": "2023-02-02T08:01:22.981633Z",
          "iopub.status.idle": "2023-02-02T08:01:24.933339Z",
          "shell.execute_reply": "2023-02-02T08:01:24.931641Z"
        },
        "papermill": {
          "duration": 1.9743,
          "end_time": "2023-02-02T08:01:24.936410",
          "exception": false,
          "start_time": "2023-02-02T08:01:22.962110",
          "status": "completed"
        },
        "tags": [],
        "id": "f08c1d88",
        "outputId": "cdef397c-eea2-48dd-b975-77bbfcce237e"
      },
      "outputs": [
        {
          "data": {
            "text/html": [
              "<style>\n",
              ".list-inline {list-style: none; margin:0; padding: 0}\n",
              ".list-inline>li {display: inline-block}\n",
              ".list-inline>li:not(:last-child)::after {content: \"\\00b7\"; padding: 0 .5ex}\n",
              "</style>\n",
              "<ol class=list-inline><li>'Thu'</li><li>'Mon'</li><li>'Tue'</li><li>'Sun'</li><li>'Sat'</li><li>'Fri'</li><li>'Wed'</li></ol>\n"
            ],
            "text/latex": [
              "\\begin{enumerate*}\n",
              "\\item 'Thu'\n",
              "\\item 'Mon'\n",
              "\\item 'Tue'\n",
              "\\item 'Sun'\n",
              "\\item 'Sat'\n",
              "\\item 'Fri'\n",
              "\\item 'Wed'\n",
              "\\end{enumerate*}\n"
            ],
            "text/markdown": [
              "1. 'Thu'\n",
              "2. 'Mon'\n",
              "3. 'Tue'\n",
              "4. 'Sun'\n",
              "5. 'Sat'\n",
              "6. 'Fri'\n",
              "7. 'Wed'\n",
              "\n",
              "\n"
            ],
            "text/plain": [
              "[1] \"Thu\" \"Mon\" \"Tue\" \"Sun\" \"Sat\" \"Fri\" \"Wed\""
            ]
          },
          "metadata": {},
          "output_type": "display_data"
        }
      ],
      "source": [
        "unique(tips_1$weekday)"
      ]
    },
    {
      "cell_type": "markdown",
      "id": "b53be426",
      "metadata": {
        "papermill": {
          "duration": 0.023615,
          "end_time": "2023-02-02T08:01:24.991662",
          "exception": false,
          "start_time": "2023-02-02T08:01:24.968047",
          "status": "completed"
        },
        "tags": [],
        "id": "b53be426"
      },
      "source": [
        "Unique() function shows the unique values stored in the *weekday* column"
      ]
    },
    {
      "cell_type": "code",
      "execution_count": null,
      "id": "4d41ee2f",
      "metadata": {
        "execution": {
          "iopub.execute_input": "2023-02-02T08:01:25.041457Z",
          "iopub.status.busy": "2023-02-02T08:01:25.039648Z",
          "iopub.status.idle": "2023-02-02T08:01:25.140906Z",
          "shell.execute_reply": "2023-02-02T08:01:25.138643Z"
        },
        "papermill": {
          "duration": 0.124966,
          "end_time": "2023-02-02T08:01:25.143920",
          "exception": false,
          "start_time": "2023-02-02T08:01:25.018954",
          "status": "completed"
        },
        "tags": [],
        "id": "4d41ee2f",
        "outputId": "d9311f45-82b7-477d-9537-1fbed72f341e"
      },
      "outputs": [
        {
          "data": {
            "text/html": [
              "<style>\n",
              ".list-inline {list-style: none; margin:0; padding: 0}\n",
              ".list-inline>li {display: inline-block}\n",
              ".list-inline>li:not(:last-child)::after {content: \"\\00b7\"; padding: 0 .5ex}\n",
              "</style>\n",
              "<ol class=list-inline><li>'01 ( Jan )'</li><li>'02 ( Feb )'</li><li>'03 ( Mar )'</li><li>'04 ( Apr )'</li><li>'05 ( May )'</li><li>'06 ( Jun )'</li><li>'07 ( Jul )'</li><li>'08 ( Aug )'</li><li>'09 ( Sep )'</li><li>'10 ( Oct )'</li><li>'11 ( Nov )'</li><li>'12 ( Dec )'</li></ol>\n"
            ],
            "text/latex": [
              "\\begin{enumerate*}\n",
              "\\item '01 ( Jan )'\n",
              "\\item '02 ( Feb )'\n",
              "\\item '03 ( Mar )'\n",
              "\\item '04 ( Apr )'\n",
              "\\item '05 ( May )'\n",
              "\\item '06 ( Jun )'\n",
              "\\item '07 ( Jul )'\n",
              "\\item '08 ( Aug )'\n",
              "\\item '09 ( Sep )'\n",
              "\\item '10 ( Oct )'\n",
              "\\item '11 ( Nov )'\n",
              "\\item '12 ( Dec )'\n",
              "\\end{enumerate*}\n"
            ],
            "text/markdown": [
              "1. '01 ( Jan )'\n",
              "2. '02 ( Feb )'\n",
              "3. '03 ( Mar )'\n",
              "4. '04 ( Apr )'\n",
              "5. '05 ( May )'\n",
              "6. '06 ( Jun )'\n",
              "7. '07 ( Jul )'\n",
              "8. '08 ( Aug )'\n",
              "9. '09 ( Sep )'\n",
              "10. '10 ( Oct )'\n",
              "11. '11 ( Nov )'\n",
              "12. '12 ( Dec )'\n",
              "\n",
              "\n"
            ],
            "text/plain": [
              " [1] \"01 ( Jan )\" \"02 ( Feb )\" \"03 ( Mar )\" \"04 ( Apr )\" \"05 ( May )\"\n",
              " [6] \"06 ( Jun )\" \"07 ( Jul )\" \"08 ( Aug )\" \"09 ( Sep )\" \"10 ( Oct )\"\n",
              "[11] \"11 ( Nov )\" \"12 ( Dec )\""
            ]
          },
          "metadata": {},
          "output_type": "display_data"
        }
      ],
      "source": [
        "unique(tips_1$month)"
      ]
    },
    {
      "cell_type": "markdown",
      "id": "bbef1765",
      "metadata": {
        "papermill": {
          "duration": 0.018567,
          "end_time": "2023-02-02T08:01:25.180679",
          "exception": false,
          "start_time": "2023-02-02T08:01:25.162112",
          "status": "completed"
        },
        "tags": [],
        "id": "bbef1765"
      },
      "source": [
        "This shows unique values present in *month* column"
      ]
    },
    {
      "cell_type": "code",
      "execution_count": null,
      "id": "b6c54774",
      "metadata": {
        "execution": {
          "iopub.execute_input": "2023-02-02T08:01:25.220226Z",
          "iopub.status.busy": "2023-02-02T08:01:25.218495Z",
          "iopub.status.idle": "2023-02-02T08:01:25.319113Z",
          "shell.execute_reply": "2023-02-02T08:01:25.316792Z"
        },
        "papermill": {
          "duration": 0.123611,
          "end_time": "2023-02-02T08:01:25.322029",
          "exception": false,
          "start_time": "2023-02-02T08:01:25.198418",
          "status": "completed"
        },
        "tags": [],
        "id": "b6c54774",
        "outputId": "848f71e6-e635-48e6-cc55-e0266cfb3036"
      },
      "outputs": [
        {
          "data": {
            "text/html": [
              "<style>\n",
              ".list-inline {list-style: none; margin:0; padding: 0}\n",
              ".list-inline>li {display: inline-block}\n",
              ".list-inline>li:not(:last-child)::after {content: \"\\00b7\"; padding: 0 .5ex}\n",
              "</style>\n",
              "<ol class=list-inline><li>'12'</li><li>'08'</li><li>'04'</li><li>'00'</li><li>'01'</li><li>'18'</li><li>'15'</li><li>'22'</li><li>'05'</li><li>'14'</li><li>'17'</li><li>'21'</li><li>'13'</li><li>'06'</li><li>'19'</li><li>'10'</li><li>'16'</li><li>'09'</li><li>'11'</li><li>'20'</li><li>'07'</li><li>'23'</li><li>'02'</li><li>'03'</li></ol>\n"
            ],
            "text/latex": [
              "\\begin{enumerate*}\n",
              "\\item '12'\n",
              "\\item '08'\n",
              "\\item '04'\n",
              "\\item '00'\n",
              "\\item '01'\n",
              "\\item '18'\n",
              "\\item '15'\n",
              "\\item '22'\n",
              "\\item '05'\n",
              "\\item '14'\n",
              "\\item '17'\n",
              "\\item '21'\n",
              "\\item '13'\n",
              "\\item '06'\n",
              "\\item '19'\n",
              "\\item '10'\n",
              "\\item '16'\n",
              "\\item '09'\n",
              "\\item '11'\n",
              "\\item '20'\n",
              "\\item '07'\n",
              "\\item '23'\n",
              "\\item '02'\n",
              "\\item '03'\n",
              "\\end{enumerate*}\n"
            ],
            "text/markdown": [
              "1. '12'\n",
              "2. '08'\n",
              "3. '04'\n",
              "4. '00'\n",
              "5. '01'\n",
              "6. '18'\n",
              "7. '15'\n",
              "8. '22'\n",
              "9. '05'\n",
              "10. '14'\n",
              "11. '17'\n",
              "12. '21'\n",
              "13. '13'\n",
              "14. '06'\n",
              "15. '19'\n",
              "16. '10'\n",
              "17. '16'\n",
              "18. '09'\n",
              "19. '11'\n",
              "20. '20'\n",
              "21. '07'\n",
              "22. '23'\n",
              "23. '02'\n",
              "24. '03'\n",
              "\n",
              "\n"
            ],
            "text/plain": [
              " [1] \"12\" \"08\" \"04\" \"00\" \"01\" \"18\" \"15\" \"22\" \"05\" \"14\" \"17\" \"21\" \"13\" \"06\" \"19\"\n",
              "[16] \"10\" \"16\" \"09\" \"11\" \"20\" \"07\" \"23\" \"02\" \"03\""
            ]
          },
          "metadata": {},
          "output_type": "display_data"
        }
      ],
      "source": [
        "unique(tips_1$started_hour)"
      ]
    },
    {
      "cell_type": "markdown",
      "id": "55e7a6c5",
      "metadata": {
        "papermill": {
          "duration": 0.018213,
          "end_time": "2023-02-02T08:01:25.358424",
          "exception": false,
          "start_time": "2023-02-02T08:01:25.340211",
          "status": "completed"
        },
        "tags": [],
        "id": "55e7a6c5"
      },
      "source": [
        "This shows all the unique values in *satrted_hour* column"
      ]
    },
    {
      "cell_type": "code",
      "execution_count": null,
      "id": "9523ccad",
      "metadata": {
        "execution": {
          "iopub.execute_input": "2023-02-02T08:01:25.398485Z",
          "iopub.status.busy": "2023-02-02T08:01:25.396763Z",
          "iopub.status.idle": "2023-02-02T08:01:25.828217Z",
          "shell.execute_reply": "2023-02-02T08:01:25.826065Z"
        },
        "papermill": {
          "duration": 0.454613,
          "end_time": "2023-02-02T08:01:25.831263",
          "exception": false,
          "start_time": "2023-02-02T08:01:25.376650",
          "status": "completed"
        },
        "tags": [],
        "id": "9523ccad",
        "outputId": "ad01b3f1-7469-4fec-d70f-bb7ba6d42844"
      },
      "outputs": [
        {
          "data": {
            "text/plain": [
              "    Min.  1st Qu.   Median     Mean  3rd Qu.     Max. \n",
              " -168.70     6.03    10.55    16.81    18.80 34354.07 "
            ]
          },
          "metadata": {},
          "output_type": "display_data"
        }
      ],
      "source": [
        "summary(tips_1$ride_time_m)"
      ]
    },
    {
      "cell_type": "markdown",
      "id": "8ee3b2ee",
      "metadata": {
        "papermill": {
          "duration": 0.018549,
          "end_time": "2023-02-02T08:01:25.868433",
          "exception": false,
          "start_time": "2023-02-02T08:01:25.849884",
          "status": "completed"
        },
        "tags": [],
        "id": "8ee3b2ee"
      },
      "source": [
        "summary() function shows the summary of the column *ride_time_m*\n",
        "Here we can se the lowest value is -168.70 which means the said cysle was out foe repair or was in HQ, So we should remove the values where the value is in negative"
      ]
    },
    {
      "cell_type": "code",
      "execution_count": null,
      "id": "dd47e44b",
      "metadata": {
        "execution": {
          "iopub.execute_input": "2023-02-02T08:01:25.908937Z",
          "iopub.status.busy": "2023-02-02T08:01:25.907228Z",
          "iopub.status.idle": "2023-02-02T08:01:33.660603Z",
          "shell.execute_reply": "2023-02-02T08:01:33.658849Z"
        },
        "papermill": {
          "duration": 7.776118,
          "end_time": "2023-02-02T08:01:33.663311",
          "exception": false,
          "start_time": "2023-02-02T08:01:25.887193",
          "status": "completed"
        },
        "tags": [],
        "id": "dd47e44b",
        "outputId": "f98bbcc1-14a5-42a5-c313-07d75d3113ab"
      },
      "outputs": [
        {
          "data": {
            "text/plain": [
              "    Min.  1st Qu.   Median     Mean  3rd Qu.     Max. \n",
              "    0.00     6.03    10.55    16.81    18.80 34354.07 "
            ]
          },
          "metadata": {},
          "output_type": "display_data"
        }
      ],
      "source": [
        "tips_1 <- tips_1[!( tips_1$ride_time_m<0),]\n",
        "summary(tips_1$ride_time_m)"
      ]
    },
    {
      "cell_type": "code",
      "execution_count": null,
      "id": "2b942ce6",
      "metadata": {
        "execution": {
          "iopub.execute_input": "2023-02-02T08:01:33.703220Z",
          "iopub.status.busy": "2023-02-02T08:01:33.701697Z",
          "iopub.status.idle": "2023-02-02T08:02:02.786660Z",
          "shell.execute_reply": "2023-02-02T08:02:02.784920Z"
        },
        "papermill": {
          "duration": 29.107551,
          "end_time": "2023-02-02T08:02:02.789224",
          "exception": false,
          "start_time": "2023-02-02T08:01:33.681673",
          "status": "completed"
        },
        "tags": [],
        "id": "2b942ce6"
      },
      "outputs": [],
      "source": [
        "tips_1 %>%\n",
        "    write.csv(\"tips_Clean\")"
      ]
    },
    {
      "cell_type": "markdown",
      "id": "122a441b",
      "metadata": {
        "papermill": {
          "duration": 0.018739,
          "end_time": "2023-02-02T08:02:02.826785",
          "exception": false,
          "start_time": "2023-02-02T08:02:02.808046",
          "status": "completed"
        },
        "tags": [],
        "id": "122a441b"
      },
      "source": [
        "*Guiding questions*\n",
        "\n",
        "● What tools are you choosing and why?\n",
        "\n",
        "Ans:- I am using R studio because MS excel can't load huge files like this.\n",
        "\n",
        "● Have you ensured your data’s integrity?\n",
        "\n",
        "Ans:- Yes the dataset contains consistent data throughout.\n",
        "\n",
        "● What steps have you taken to ensure that your data is clean?\n",
        "\n",
        "Ans:- To ensure that the dataset is clean I removed any NULL/NA values opr duplicate values present in the data.\n",
        "\n",
        "● How can you verify that your data is clean and ready to analyze?\n",
        "\n",
        "Ans:- We can varify the data is clean through looking if the data is stored in correct format and don't have3 remaining NULL or duplicate values.\n",
        "\n",
        "● Have you documented your cleaning process so you can review and share those results?\n",
        "\n",
        "Ans:- Yes i have saved a cleaned dataset and also i have my R studio save file as documentation.\n",
        "\n",
        "*Key tasks*\n",
        "\n",
        "1. Check the data for errors.\n",
        "2. Choose your tools.\n",
        "3. Transform the data so you can work with it effectively.\n",
        "4. Document the cleaning process.\n",
        "\n",
        "*Deliverable*\n",
        "\n",
        "Documentation of any cleaning or manipulation of data\n"
      ]
    },
    {
      "cell_type": "markdown",
      "id": "140d38ab",
      "metadata": {
        "papermill": {
          "duration": 0.018346,
          "end_time": "2023-02-02T08:02:02.863434",
          "exception": false,
          "start_time": "2023-02-02T08:02:02.845088",
          "status": "completed"
        },
        "tags": [],
        "id": "140d38ab"
      },
      "source": [
        "**Analyze**\n",
        "\n",
        "In the Analysis phase we will see using different parameters how does that reflect on the use of subscribed members and casual members.\n",
        "\n",
        "**Code**"
      ]
    },
    {
      "cell_type": "code",
      "execution_count": null,
      "id": "3d423e04",
      "metadata": {
        "execution": {
          "iopub.execute_input": "2023-02-02T08:02:02.905110Z",
          "iopub.status.busy": "2023-02-02T08:02:02.903624Z",
          "iopub.status.idle": "2023-02-02T08:02:02.919486Z",
          "shell.execute_reply": "2023-02-02T08:02:02.917843Z"
        },
        "papermill": {
          "duration": 0.039001,
          "end_time": "2023-02-02T08:02:02.921835",
          "exception": false,
          "start_time": "2023-02-02T08:02:02.882834",
          "status": "completed"
        },
        "tags": [],
        "id": "3d423e04"
      },
      "outputs": [],
      "source": [
        "figure <- function(width, heigth){options(repr.plot.width = width, repr.plot.height = heigth)}\n",
        "figure(18,7)"
      ]
    },
    {
      "cell_type": "code",
      "execution_count": null,
      "id": "8183e15d",
      "metadata": {
        "execution": {
          "iopub.execute_input": "2023-02-02T08:02:02.961680Z",
          "iopub.status.busy": "2023-02-02T08:02:02.960228Z",
          "iopub.status.idle": "2023-02-02T08:02:02.990674Z",
          "shell.execute_reply": "2023-02-02T08:02:02.988909Z"
        },
        "papermill": {
          "duration": 0.052943,
          "end_time": "2023-02-02T08:02:02.993054",
          "exception": false,
          "start_time": "2023-02-02T08:02:02.940111",
          "status": "completed"
        },
        "tags": [],
        "id": "8183e15d",
        "outputId": "eccb0b36-9469-4972-a6af-fae0d7418160"
      },
      "outputs": [
        {
          "data": {
            "text/html": [
              "<table class=\"dataframe\">\n",
              "<caption>A tibble: 6 × 10</caption>\n",
              "<thead>\n",
              "\t<tr><th scope=col>ride_id</th><th scope=col>rideable_type</th><th scope=col>started_at</th><th scope=col>ended_at</th><th scope=col>end_station_name</th><th scope=col>member_casual</th><th scope=col>ride_time_m</th><th scope=col>started_hour</th><th scope=col>weekday</th><th scope=col>month</th></tr>\n",
              "\t<tr><th scope=col>&lt;chr&gt;</th><th scope=col>&lt;chr&gt;</th><th scope=col>&lt;chr&gt;</th><th scope=col>&lt;chr&gt;</th><th scope=col>&lt;chr&gt;</th><th scope=col>&lt;chr&gt;</th><th scope=col>&lt;dbl&gt;</th><th scope=col>&lt;chr&gt;</th><th scope=col>&lt;chr&gt;</th><th scope=col>&lt;chr&gt;</th></tr>\n",
              "</thead>\n",
              "<tbody>\n",
              "\t<tr><td>C2F7DD78E82EC875</td><td>electric_bike</td><td>2022-01-13 11:59:47</td><td>2022-01-13 12:02:44</td><td><span style=white-space:pre-wrap>Clark St &amp; Touhy Ave         </span></td><td>casual</td><td> 2.950000</td><td>12</td><td>Thu</td><td>01 ( Jan )</td></tr>\n",
              "\t<tr><td>A6CF8980A652D272</td><td>electric_bike</td><td>2022-01-10 08:41:56</td><td>2022-01-10 08:46:17</td><td><span style=white-space:pre-wrap>Clark St &amp; Touhy Ave         </span></td><td>casual</td><td> 4.350000</td><td>08</td><td>Mon</td><td>01 ( Jan )</td></tr>\n",
              "\t<tr><td>BD0F91DFF741C66D</td><td>classic_bike </td><td>2022-01-25 04:53:40</td><td>2022-01-25 04:58:01</td><td>Greenview Ave &amp; Fullerton Ave</td><td>member</td><td> 4.350000</td><td>04</td><td>Tue</td><td>01 ( Jan )</td></tr>\n",
              "\t<tr><td>CBB80ED419105406</td><td>classic_bike </td><td>2022-01-04 00:18:04</td><td>2022-01-04 00:33:00</td><td><span style=white-space:pre-wrap>Paulina St &amp; Montrose Ave    </span></td><td>casual</td><td>14.933333</td><td>00</td><td>Tue</td><td>01 ( Jan )</td></tr>\n",
              "\t<tr><td>DDC963BFDDA51EEA</td><td>classic_bike </td><td>2022-01-20 01:31:10</td><td>2022-01-20 01:37:12</td><td><span style=white-space:pre-wrap>State St &amp; Randolph St       </span></td><td>member</td><td> 6.033333</td><td>01</td><td>Thu</td><td>01 ( Jan )</td></tr>\n",
              "\t<tr><td>A39C6F6CC0586C0B</td><td>classic_bike </td><td>2022-01-11 18:48:09</td><td>2022-01-11 18:51:31</td><td><span style=white-space:pre-wrap>Honore St &amp; Division St      </span></td><td>member</td><td> 3.366667</td><td>18</td><td>Tue</td><td>01 ( Jan )</td></tr>\n",
              "</tbody>\n",
              "</table>\n"
            ],
            "text/latex": [
              "A tibble: 6 × 10\n",
              "\\begin{tabular}{llllllllll}\n",
              " ride\\_id & rideable\\_type & started\\_at & ended\\_at & end\\_station\\_name & member\\_casual & ride\\_time\\_m & started\\_hour & weekday & month\\\\\n",
              " <chr> & <chr> & <chr> & <chr> & <chr> & <chr> & <dbl> & <chr> & <chr> & <chr>\\\\\n",
              "\\hline\n",
              "\t C2F7DD78E82EC875 & electric\\_bike & 2022-01-13 11:59:47 & 2022-01-13 12:02:44 & Clark St \\& Touhy Ave          & casual &  2.950000 & 12 & Thu & 01 ( Jan )\\\\\n",
              "\t A6CF8980A652D272 & electric\\_bike & 2022-01-10 08:41:56 & 2022-01-10 08:46:17 & Clark St \\& Touhy Ave          & casual &  4.350000 & 08 & Mon & 01 ( Jan )\\\\\n",
              "\t BD0F91DFF741C66D & classic\\_bike  & 2022-01-25 04:53:40 & 2022-01-25 04:58:01 & Greenview Ave \\& Fullerton Ave & member &  4.350000 & 04 & Tue & 01 ( Jan )\\\\\n",
              "\t CBB80ED419105406 & classic\\_bike  & 2022-01-04 00:18:04 & 2022-01-04 00:33:00 & Paulina St \\& Montrose Ave     & casual & 14.933333 & 00 & Tue & 01 ( Jan )\\\\\n",
              "\t DDC963BFDDA51EEA & classic\\_bike  & 2022-01-20 01:31:10 & 2022-01-20 01:37:12 & State St \\& Randolph St        & member &  6.033333 & 01 & Thu & 01 ( Jan )\\\\\n",
              "\t A39C6F6CC0586C0B & classic\\_bike  & 2022-01-11 18:48:09 & 2022-01-11 18:51:31 & Honore St \\& Division St       & member &  3.366667 & 18 & Tue & 01 ( Jan )\\\\\n",
              "\\end{tabular}\n"
            ],
            "text/markdown": [
              "\n",
              "A tibble: 6 × 10\n",
              "\n",
              "| ride_id &lt;chr&gt; | rideable_type &lt;chr&gt; | started_at &lt;chr&gt; | ended_at &lt;chr&gt; | end_station_name &lt;chr&gt; | member_casual &lt;chr&gt; | ride_time_m &lt;dbl&gt; | started_hour &lt;chr&gt; | weekday &lt;chr&gt; | month &lt;chr&gt; |\n",
              "|---|---|---|---|---|---|---|---|---|---|\n",
              "| C2F7DD78E82EC875 | electric_bike | 2022-01-13 11:59:47 | 2022-01-13 12:02:44 | Clark St &amp; Touhy Ave          | casual |  2.950000 | 12 | Thu | 01 ( Jan ) |\n",
              "| A6CF8980A652D272 | electric_bike | 2022-01-10 08:41:56 | 2022-01-10 08:46:17 | Clark St &amp; Touhy Ave          | casual |  4.350000 | 08 | Mon | 01 ( Jan ) |\n",
              "| BD0F91DFF741C66D | classic_bike  | 2022-01-25 04:53:40 | 2022-01-25 04:58:01 | Greenview Ave &amp; Fullerton Ave | member |  4.350000 | 04 | Tue | 01 ( Jan ) |\n",
              "| CBB80ED419105406 | classic_bike  | 2022-01-04 00:18:04 | 2022-01-04 00:33:00 | Paulina St &amp; Montrose Ave     | casual | 14.933333 | 00 | Tue | 01 ( Jan ) |\n",
              "| DDC963BFDDA51EEA | classic_bike  | 2022-01-20 01:31:10 | 2022-01-20 01:37:12 | State St &amp; Randolph St        | member |  6.033333 | 01 | Thu | 01 ( Jan ) |\n",
              "| A39C6F6CC0586C0B | classic_bike  | 2022-01-11 18:48:09 | 2022-01-11 18:51:31 | Honore St &amp; Division St       | member |  3.366667 | 18 | Tue | 01 ( Jan ) |\n",
              "\n"
            ],
            "text/plain": [
              "  ride_id          rideable_type started_at          ended_at           \n",
              "1 C2F7DD78E82EC875 electric_bike 2022-01-13 11:59:47 2022-01-13 12:02:44\n",
              "2 A6CF8980A652D272 electric_bike 2022-01-10 08:41:56 2022-01-10 08:46:17\n",
              "3 BD0F91DFF741C66D classic_bike  2022-01-25 04:53:40 2022-01-25 04:58:01\n",
              "4 CBB80ED419105406 classic_bike  2022-01-04 00:18:04 2022-01-04 00:33:00\n",
              "5 DDC963BFDDA51EEA classic_bike  2022-01-20 01:31:10 2022-01-20 01:37:12\n",
              "6 A39C6F6CC0586C0B classic_bike  2022-01-11 18:48:09 2022-01-11 18:51:31\n",
              "  end_station_name              member_casual ride_time_m started_hour weekday\n",
              "1 Clark St & Touhy Ave          casual         2.950000   12           Thu    \n",
              "2 Clark St & Touhy Ave          casual         4.350000   08           Mon    \n",
              "3 Greenview Ave & Fullerton Ave member         4.350000   04           Tue    \n",
              "4 Paulina St & Montrose Ave     casual        14.933333   00           Tue    \n",
              "5 State St & Randolph St        member         6.033333   01           Thu    \n",
              "6 Honore St & Division St       member         3.366667   18           Tue    \n",
              "  month     \n",
              "1 01 ( Jan )\n",
              "2 01 ( Jan )\n",
              "3 01 ( Jan )\n",
              "4 01 ( Jan )\n",
              "5 01 ( Jan )\n",
              "6 01 ( Jan )"
            ]
          },
          "metadata": {},
          "output_type": "display_data"
        }
      ],
      "source": [
        "head(tips_1)"
      ]
    },
    {
      "cell_type": "markdown",
      "id": "3934eaca",
      "metadata": {
        "papermill": {
          "duration": 0.018653,
          "end_time": "2023-02-02T08:02:03.030456",
          "exception": false,
          "start_time": "2023-02-02T08:02:03.011803",
          "status": "completed"
        },
        "tags": [],
        "id": "3934eaca"
      },
      "source": [
        "We can see there are some not so usefull column left."
      ]
    },
    {
      "cell_type": "code",
      "execution_count": null,
      "id": "d83ba716",
      "metadata": {
        "execution": {
          "iopub.execute_input": "2023-02-02T08:02:03.076203Z",
          "iopub.status.busy": "2023-02-02T08:02:03.073164Z",
          "iopub.status.idle": "2023-02-02T08:02:03.848288Z",
          "shell.execute_reply": "2023-02-02T08:02:03.846097Z"
        },
        "papermill": {
          "duration": 0.801949,
          "end_time": "2023-02-02T08:02:03.851170",
          "exception": false,
          "start_time": "2023-02-02T08:02:03.049221",
          "status": "completed"
        },
        "tags": [],
        "id": "d83ba716"
      },
      "outputs": [],
      "source": [
        "tips_1 <- subset(tips_1,select=-c(end_station_name))"
      ]
    },
    {
      "cell_type": "markdown",
      "id": "cc356b4b",
      "metadata": {
        "papermill": {
          "duration": 0.020144,
          "end_time": "2023-02-02T08:02:03.899235",
          "exception": false,
          "start_time": "2023-02-02T08:02:03.879091",
          "status": "completed"
        },
        "tags": [],
        "id": "cc356b4b"
      },
      "source": [
        "**Data Distribution**\n",
        "\n",
        "Now we will see Distribution of data with different parameters"
      ]
    },
    {
      "cell_type": "markdown",
      "id": "18a40996",
      "metadata": {
        "papermill": {
          "duration": 0.019688,
          "end_time": "2023-02-02T08:02:03.937994",
          "exception": false,
          "start_time": "2023-02-02T08:02:03.918306",
          "status": "completed"
        },
        "tags": [],
        "id": "18a40996"
      },
      "source": [
        "**Casual & Members**\n",
        "\n",
        "We will see the distribution of Casual and Member Data in the dataset"
      ]
    },
    {
      "cell_type": "code",
      "execution_count": null,
      "id": "0a548cdc",
      "metadata": {
        "execution": {
          "iopub.execute_input": "2023-02-02T08:02:03.983309Z",
          "iopub.status.busy": "2023-02-02T08:02:03.981455Z",
          "iopub.status.idle": "2023-02-02T08:02:04.279085Z",
          "shell.execute_reply": "2023-02-02T08:02:04.276691Z"
        },
        "papermill": {
          "duration": 0.325416,
          "end_time": "2023-02-02T08:02:04.282211",
          "exception": false,
          "start_time": "2023-02-02T08:02:03.956795",
          "status": "completed"
        },
        "tags": [],
        "id": "0a548cdc",
        "outputId": "ca923abf-dd71-476a-d4d7-6fe3bd073193"
      },
      "outputs": [
        {
          "data": {
            "text/html": [
              "<table class=\"dataframe\">\n",
              "<caption>A tibble: 2 × 3</caption>\n",
              "<thead>\n",
              "\t<tr><th scope=col>member_casual</th><th scope=col>Total</th><th scope=col>Percentage (%)</th></tr>\n",
              "\t<tr><th scope=col>&lt;chr&gt;</th><th scope=col>&lt;int&gt;</th><th scope=col>&lt;dbl&gt;</th></tr>\n",
              "</thead>\n",
              "<tbody>\n",
              "\t<tr><td>casual</td><td>1913095</td><td>40.06573</td></tr>\n",
              "\t<tr><td>member</td><td>2861796</td><td>59.93427</td></tr>\n",
              "</tbody>\n",
              "</table>\n"
            ],
            "text/latex": [
              "A tibble: 2 × 3\n",
              "\\begin{tabular}{lll}\n",
              " member\\_casual & Total & Percentage (\\%)\\\\\n",
              " <chr> & <int> & <dbl>\\\\\n",
              "\\hline\n",
              "\t casual & 1913095 & 40.06573\\\\\n",
              "\t member & 2861796 & 59.93427\\\\\n",
              "\\end{tabular}\n"
            ],
            "text/markdown": [
              "\n",
              "A tibble: 2 × 3\n",
              "\n",
              "| member_casual &lt;chr&gt; | Total &lt;int&gt; | Percentage (%) &lt;dbl&gt; |\n",
              "|---|---|---|\n",
              "| casual | 1913095 | 40.06573 |\n",
              "| member | 2861796 | 59.93427 |\n",
              "\n"
            ],
            "text/plain": [
              "  member_casual Total   Percentage (%)\n",
              "1 casual        1913095 40.06573      \n",
              "2 member        2861796 59.93427      "
            ]
          },
          "metadata": {},
          "output_type": "display_data"
        }
      ],
      "source": [
        "tips_1 %>%\n",
        "  group_by(member_casual) %>%\n",
        "  summarise( Total = length(ride_id),\n",
        "             \"Percentage (%)\" = length(ride_id)/nrow(tips_1)*100)"
      ]
    },
    {
      "cell_type": "code",
      "execution_count": null,
      "id": "80561a22",
      "metadata": {
        "execution": {
          "iopub.execute_input": "2023-02-02T08:02:04.323692Z",
          "iopub.status.busy": "2023-02-02T08:02:04.322053Z",
          "iopub.status.idle": "2023-02-02T08:02:15.563227Z",
          "shell.execute_reply": "2023-02-02T08:02:15.561432Z"
        },
        "papermill": {
          "duration": 11.264479,
          "end_time": "2023-02-02T08:02:15.565716",
          "exception": false,
          "start_time": "2023-02-02T08:02:04.301237",
          "status": "completed"
        },
        "tags": [],
        "id": "80561a22",
        "outputId": "0cd1faa7-b84a-4d05-b1e0-075c00b4d934"
      },
      "outputs": [
        {
          "data": {
            "image/png": "[encoded data removed]"
          },
          "metadata": {
            "image/png": {
              "height": 420,
              "width": 1080
            }
          },
          "output_type": "display_data"
        }
      ],
      "source": [
        "ggplot(tips_1,aes(member_casual,fill=member_casual),colour = class)+geom_bar()+ labs(x=\"Casuals & Members\", title=\"Casuals & Members distribution\")+ theme(\n",
        "  panel.background = element_rect(fill = \"white\"))"
      ]
    },
    {
      "cell_type": "markdown",
      "id": "ae08322b",
      "metadata": {
        "papermill": {
          "duration": 0.026996,
          "end_time": "2023-02-02T08:02:15.614692",
          "exception": false,
          "start_time": "2023-02-02T08:02:15.587696",
          "status": "completed"
        },
        "tags": [],
        "id": "ae08322b"
      },
      "source": [
        "As we can see through the data distribution of Members and Casual users subscribed Members are ~60% of the total users data and ~40% Casual users. Subscribed Members ~20% more than Casual Users."
      ]
    },
    {
      "cell_type": "markdown",
      "id": "8f83d1bd",
      "metadata": {
        "papermill": {
          "duration": 0.020462,
          "end_time": "2023-02-02T08:02:15.655704",
          "exception": false,
          "start_time": "2023-02-02T08:02:15.635242",
          "status": "completed"
        },
        "tags": [],
        "id": "8f83d1bd"
      },
      "source": [
        "**Ride Type**\n",
        "\n",
        "Now I will check members and casual user distribution with the change of Ride type there are three types of ride in the dataset."
      ]
    },
    {
      "cell_type": "code",
      "execution_count": null,
      "id": "cac4634c",
      "metadata": {
        "execution": {
          "iopub.execute_input": "2023-02-02T08:02:15.701520Z",
          "iopub.status.busy": "2023-02-02T08:02:15.699827Z",
          "iopub.status.idle": "2023-02-02T08:02:16.174394Z",
          "shell.execute_reply": "2023-02-02T08:02:16.172204Z"
        },
        "papermill": {
          "duration": 0.500271,
          "end_time": "2023-02-02T08:02:16.177223",
          "exception": false,
          "start_time": "2023-02-02T08:02:15.676952",
          "status": "completed"
        },
        "tags": [],
        "id": "cac4634c",
        "outputId": "940faadb-4ba5-4372-aaf3-b724c5d43ca1"
      },
      "outputs": [
        {
          "data": {
            "text/html": [
              "<table class=\"dataframe\">\n",
              "<caption>A tibble: 3 × 6</caption>\n",
              "<thead>\n",
              "\t<tr><th scope=col>rideable_type</th><th scope=col>count</th><th scope=col>Percentage (%)</th><th scope=col>Members_count</th><th scope=col>Casual_count</th><th scope=col>Diff Member&lt;-&gt; Casual</th></tr>\n",
              "\t<tr><th scope=col>&lt;chr&gt;</th><th scope=col>&lt;int&gt;</th><th scope=col>&lt;dbl&gt;</th><th scope=col>&lt;dbl&gt;</th><th scope=col>&lt;dbl&gt;</th><th scope=col>&lt;dbl&gt;</th></tr>\n",
              "</thead>\n",
              "<tbody>\n",
              "\t<tr><td>classic_bike </td><td>2597398</td><td>54.397011</td><td>65.78253</td><td> 34.21747</td><td>  31.56505</td></tr>\n",
              "\t<tr><td>docked_bike  </td><td> 174858</td><td> 3.662031</td><td> 0.00000</td><td>100.00000</td><td>-100.00000</td></tr>\n",
              "\t<tr><td>electric_bike</td><td>2002635</td><td>41.940957</td><td>57.58224</td><td> 42.41776</td><td>  15.16447</td></tr>\n",
              "</tbody>\n",
              "</table>\n"
            ],
            "text/latex": [
              "A tibble: 3 × 6\n",
              "\\begin{tabular}{llllll}\n",
              " rideable\\_type & count & Percentage (\\%) & Members\\_count & Casual\\_count & Diff Member<-> Casual\\\\\n",
              " <chr> & <int> & <dbl> & <dbl> & <dbl> & <dbl>\\\\\n",
              "\\hline\n",
              "\t classic\\_bike  & 2597398 & 54.397011 & 65.78253 &  34.21747 &   31.56505\\\\\n",
              "\t docked\\_bike   &  174858 &  3.662031 &  0.00000 & 100.00000 & -100.00000\\\\\n",
              "\t electric\\_bike & 2002635 & 41.940957 & 57.58224 &  42.41776 &   15.16447\\\\\n",
              "\\end{tabular}\n"
            ],
            "text/markdown": [
              "\n",
              "A tibble: 3 × 6\n",
              "\n",
              "| rideable_type &lt;chr&gt; | count &lt;int&gt; | Percentage (%) &lt;dbl&gt; | Members_count &lt;dbl&gt; | Casual_count &lt;dbl&gt; | Diff Member&lt;-&gt; Casual &lt;dbl&gt; |\n",
              "|---|---|---|---|---|---|\n",
              "| classic_bike  | 2597398 | 54.397011 | 65.78253 |  34.21747 |   31.56505 |\n",
              "| docked_bike   |  174858 |  3.662031 |  0.00000 | 100.00000 | -100.00000 |\n",
              "| electric_bike | 2002635 | 41.940957 | 57.58224 |  42.41776 |   15.16447 |\n",
              "\n"
            ],
            "text/plain": [
              "  rideable_type count   Percentage (%) Members_count Casual_count\n",
              "1 classic_bike  2597398 54.397011      65.78253       34.21747   \n",
              "2 docked_bike    174858  3.662031       0.00000      100.00000   \n",
              "3 electric_bike 2002635 41.940957      57.58224       42.41776   \n",
              "  Diff Member<-> Casual\n",
              "1   31.56505           \n",
              "2 -100.00000           \n",
              "3   15.16447           "
            ]
          },
          "metadata": {},
          "output_type": "display_data"
        }
      ],
      "source": [
        "tips_1 %>%\n",
        "  group_by(rideable_type) %>%\n",
        "  summarise(count = length(ride_id), \"Percentage (%)\" = length(ride_id)/nrow(tips_1)*100,\"Members_count\"= (sum(member_casual == \"member\")/length(ride_id))*100,\"Casual_count\"=(sum(member_casual == \"casual\")/length(ride_id))*100, \"Diff Member<-> Casual\" = Members_count-Casual_count)"
      ]
    },
    {
      "cell_type": "code",
      "execution_count": null,
      "id": "b485b86c",
      "metadata": {
        "execution": {
          "iopub.execute_input": "2023-02-02T08:02:16.221989Z",
          "iopub.status.busy": "2023-02-02T08:02:16.220101Z",
          "iopub.status.idle": "2023-02-02T08:02:28.991588Z",
          "shell.execute_reply": "2023-02-02T08:02:28.987641Z"
        },
        "papermill": {
          "duration": 12.79814,
          "end_time": "2023-02-02T08:02:28.995483",
          "exception": false,
          "start_time": "2023-02-02T08:02:16.197343",
          "status": "completed"
        },
        "tags": [],
        "id": "b485b86c",
        "outputId": "86a1e759-822d-49c9-e21a-f296a73acfd5"
      },
      "outputs": [
        {
          "data": {
            "image/png": "[encoded data removed]"
          },
          "metadata": {
            "image/png": {
              "height": 420,
              "width": 1080
            }
          },
          "output_type": "display_data"
        }
      ],
      "source": [
        "tips_1 %>%\n",
        "  ggplot(aes(rideable_type,fill=member_casual))+geom_bar()+labs(x=\"Ride Type\", title=\"Distribution of Ride type between Casual & Members\")+ theme(\n",
        "  panel.background = element_rect(fill = \"white\"))"
      ]
    },
    {
      "cell_type": "markdown",
      "id": "70fd04ca",
      "metadata": {
        "papermill": {
          "duration": 0.020164,
          "end_time": "2023-02-02T08:02:29.037140",
          "exception": false,
          "start_time": "2023-02-02T08:02:29.016976",
          "status": "completed"
        },
        "tags": [],
        "id": "70fd04ca"
      },
      "source": [
        "In this distribution we can see thet there are three types of cycle available Classical, electrical and Docked though members are more than casual in the yearly usage daily usage shows that more casual users use the cycles more than subscribed members. Here we can see that both casual and members prefer classical bikes and only casual users use docked bikes because they dont have other options available as electrical and classiacl are in more demand."
      ]
    },
    {
      "cell_type": "markdown",
      "id": "d605ec7f",
      "metadata": {
        "papermill": {
          "duration": 0.020245,
          "end_time": "2023-02-02T08:02:29.077521",
          "exception": false,
          "start_time": "2023-02-02T08:02:29.057276",
          "status": "completed"
        },
        "tags": [],
        "id": "d605ec7f"
      },
      "source": [
        "**Hour Of The Day & Casual-Member Distribution**\n",
        "\n",
        "Now will look the distribution of usage with every hour between casual & member"
      ]
    },
    {
      "cell_type": "code",
      "execution_count": null,
      "id": "3b966e5e",
      "metadata": {
        "execution": {
          "iopub.execute_input": "2023-02-02T08:02:29.121757Z",
          "iopub.status.busy": "2023-02-02T08:02:29.120045Z",
          "iopub.status.idle": "2023-02-02T08:02:30.062037Z",
          "shell.execute_reply": "2023-02-02T08:02:30.059595Z"
        },
        "papermill": {
          "duration": 0.967444,
          "end_time": "2023-02-02T08:02:30.065180",
          "exception": false,
          "start_time": "2023-02-02T08:02:29.097736",
          "status": "completed"
        },
        "tags": [],
        "id": "3b966e5e",
        "outputId": "26eb7d58-9ee3-41a7-fea4-80352f148f0e"
      },
      "outputs": [
        {
          "data": {
            "text/html": [
              "<table class=\"dataframe\">\n",
              "<caption>A tibble: 24 × 6</caption>\n",
              "<thead>\n",
              "\t<tr><th scope=col>started_hour</th><th scope=col>count</th><th scope=col>Percentage (%)</th><th scope=col>Members_count</th><th scope=col>Casual_count</th><th scope=col>Diff Member&lt;-&gt; Casual</th></tr>\n",
              "\t<tr><th scope=col>&lt;chr&gt;</th><th scope=col>&lt;int&gt;</th><th scope=col>&lt;dbl&gt;</th><th scope=col>&lt;dbl&gt;</th><th scope=col>&lt;dbl&gt;</th><th scope=col>&lt;dbl&gt;</th></tr>\n",
              "</thead>\n",
              "<tbody>\n",
              "\t<tr><td>00</td><td> 72301</td><td> 1.5141916</td><td>43.55680</td><td>56.44320</td><td>-12.8864054</td></tr>\n",
              "\t<tr><td>01</td><td> 45058</td><td> 0.9436446</td><td>42.20782</td><td>57.79218</td><td>-15.5843579</td></tr>\n",
              "\t<tr><td>02</td><td> 28498</td><td> 0.5968304</td><td>39.18170</td><td>60.81830</td><td>-21.6366061</td></tr>\n",
              "\t<tr><td>03</td><td> 16404</td><td> 0.3435471</td><td>39.83175</td><td>60.16825</td><td>-20.3365033</td></tr>\n",
              "\t<tr><td>04</td><td> 12388</td><td> 0.2594405</td><td>50.88796</td><td>49.11204</td><td>  1.7759122</td></tr>\n",
              "\t<tr><td>05</td><td> 31683</td><td> 0.6635335</td><td>73.21276</td><td>26.78724</td><td> 46.4255279</td></tr>\n",
              "\t<tr><td>06</td><td> 91941</td><td> 1.9255099</td><td>78.16208</td><td>21.83792</td><td> 56.3241644</td></tr>\n",
              "\t<tr><td>07</td><td>178665</td><td> 3.7417608</td><td>78.90018</td><td>21.09982</td><td> 57.8003526</td></tr>\n",
              "\t<tr><td>08</td><td>240068</td><td> 5.0277169</td><td>77.54678</td><td>22.45322</td><td> 55.0935568</td></tr>\n",
              "\t<tr><td>09</td><td>183662</td><td> 3.8464124</td><td>71.10017</td><td>28.89983</td><td> 42.2003463</td></tr>\n",
              "\t<tr><td>10</td><td>178890</td><td> 3.7464730</td><td>62.83862</td><td>37.16138</td><td> 25.6772318</td></tr>\n",
              "\t<tr><td>11</td><td>219420</td><td> 4.5952881</td><td>59.31319</td><td>40.68681</td><td> 18.6263786</td></tr>\n",
              "\t<tr><td>12</td><td>270508</td><td> 5.6652183</td><td>57.98350</td><td>42.01650</td><td> 15.9669954</td></tr>\n",
              "\t<tr><td>13</td><td>278072</td><td> 5.8236303</td><td>56.09770</td><td>43.90230</td><td> 12.1954026</td></tr>\n",
              "\t<tr><td>14</td><td>284423</td><td> 5.9566386</td><td>54.40348</td><td>45.59652</td><td>  8.8069530</td></tr>\n",
              "\t<tr><td>15</td><td>325348</td><td> 6.8137262</td><td>55.54729</td><td>44.45271</td><td> 11.0945818</td></tr>\n",
              "\t<tr><td>16</td><td>397989</td><td> 8.3350384</td><td>59.38732</td><td>40.61268</td><td> 18.7746395</td></tr>\n",
              "\t<tr><td>17</td><td>486297</td><td>10.1844628</td><td>62.05200</td><td>37.94800</td><td> 24.1039941</td></tr>\n",
              "\t<tr><td>18</td><td>429164</td><td> 8.9879329</td><td>59.89528</td><td>40.10472</td><td> 19.7905696</td></tr>\n",
              "\t<tr><td>19</td><td>326384</td><td> 6.8354230</td><td>57.74885</td><td>42.25115</td><td> 15.4976960</td></tr>\n",
              "\t<tr><td>20</td><td>233985</td><td> 4.9003213</td><td>56.46430</td><td>43.53570</td><td> 12.9286065</td></tr>\n",
              "\t<tr><td>21</td><td>183845</td><td> 3.8502450</td><td>54.80704</td><td>45.19296</td><td>  9.6140771</td></tr>\n",
              "\t<tr><td>22</td><td>151859</td><td> 3.1803658</td><td>50.40399</td><td>49.59601</td><td>  0.8079864</td></tr>\n",
              "\t<tr><td>23</td><td>108039</td><td> 2.2626485</td><td>46.82106</td><td>53.17894</td><td> -6.3578893</td></tr>\n",
              "</tbody>\n",
              "</table>\n"
            ],
            "text/latex": [
              "A tibble: 24 × 6\n",
              "\\begin{tabular}{llllll}\n",
              " started\\_hour & count & Percentage (\\%) & Members\\_count & Casual\\_count & Diff Member<-> Casual\\\\\n",
              " <chr> & <int> & <dbl> & <dbl> & <dbl> & <dbl>\\\\\n",
              "\\hline\n",
              "\t 00 &  72301 &  1.5141916 & 43.55680 & 56.44320 & -12.8864054\\\\\n",
              "\t 01 &  45058 &  0.9436446 & 42.20782 & 57.79218 & -15.5843579\\\\\n",
              "\t 02 &  28498 &  0.5968304 & 39.18170 & 60.81830 & -21.6366061\\\\\n",
              "\t 03 &  16404 &  0.3435471 & 39.83175 & 60.16825 & -20.3365033\\\\\n",
              "\t 04 &  12388 &  0.2594405 & 50.88796 & 49.11204 &   1.7759122\\\\\n",
              "\t 05 &  31683 &  0.6635335 & 73.21276 & 26.78724 &  46.4255279\\\\\n",
              "\t 06 &  91941 &  1.9255099 & 78.16208 & 21.83792 &  56.3241644\\\\\n",
              "\t 07 & 178665 &  3.7417608 & 78.90018 & 21.09982 &  57.8003526\\\\\n",
              "\t 08 & 240068 &  5.0277169 & 77.54678 & 22.45322 &  55.0935568\\\\\n",
              "\t 09 & 183662 &  3.8464124 & 71.10017 & 28.89983 &  42.2003463\\\\\n",
              "\t 10 & 178890 &  3.7464730 & 62.83862 & 37.16138 &  25.6772318\\\\\n",
              "\t 11 & 219420 &  4.5952881 & 59.31319 & 40.68681 &  18.6263786\\\\\n",
              "\t 12 & 270508 &  5.6652183 & 57.98350 & 42.01650 &  15.9669954\\\\\n",
              "\t 13 & 278072 &  5.8236303 & 56.09770 & 43.90230 &  12.1954026\\\\\n",
              "\t 14 & 284423 &  5.9566386 & 54.40348 & 45.59652 &   8.8069530\\\\\n",
              "\t 15 & 325348 &  6.8137262 & 55.54729 & 44.45271 &  11.0945818\\\\\n",
              "\t 16 & 397989 &  8.3350384 & 59.38732 & 40.61268 &  18.7746395\\\\\n",
              "\t 17 & 486297 & 10.1844628 & 62.05200 & 37.94800 &  24.1039941\\\\\n",
              "\t 18 & 429164 &  8.9879329 & 59.89528 & 40.10472 &  19.7905696\\\\\n",
              "\t 19 & 326384 &  6.8354230 & 57.74885 & 42.25115 &  15.4976960\\\\\n",
              "\t 20 & 233985 &  4.9003213 & 56.46430 & 43.53570 &  12.9286065\\\\\n",
              "\t 21 & 183845 &  3.8502450 & 54.80704 & 45.19296 &   9.6140771\\\\\n",
              "\t 22 & 151859 &  3.1803658 & 50.40399 & 49.59601 &   0.8079864\\\\\n",
              "\t 23 & 108039 &  2.2626485 & 46.82106 & 53.17894 &  -6.3578893\\\\\n",
              "\\end{tabular}\n"
            ],
            "text/markdown": [
              "\n",
              "A tibble: 24 × 6\n",
              "\n",
              "| started_hour &lt;chr&gt; | count &lt;int&gt; | Percentage (%) &lt;dbl&gt; | Members_count &lt;dbl&gt; | Casual_count &lt;dbl&gt; | Diff Member&lt;-&gt; Casual &lt;dbl&gt; |\n",
              "|---|---|---|---|---|---|\n",
              "| 00 |  72301 |  1.5141916 | 43.55680 | 56.44320 | -12.8864054 |\n",
              "| 01 |  45058 |  0.9436446 | 42.20782 | 57.79218 | -15.5843579 |\n",
              "| 02 |  28498 |  0.5968304 | 39.18170 | 60.81830 | -21.6366061 |\n",
              "| 03 |  16404 |  0.3435471 | 39.83175 | 60.16825 | -20.3365033 |\n",
              "| 04 |  12388 |  0.2594405 | 50.88796 | 49.11204 |   1.7759122 |\n",
              "| 05 |  31683 |  0.6635335 | 73.21276 | 26.78724 |  46.4255279 |\n",
              "| 06 |  91941 |  1.9255099 | 78.16208 | 21.83792 |  56.3241644 |\n",
              "| 07 | 178665 |  3.7417608 | 78.90018 | 21.09982 |  57.8003526 |\n",
              "| 08 | 240068 |  5.0277169 | 77.54678 | 22.45322 |  55.0935568 |\n",
              "| 09 | 183662 |  3.8464124 | 71.10017 | 28.89983 |  42.2003463 |\n",
              "| 10 | 178890 |  3.7464730 | 62.83862 | 37.16138 |  25.6772318 |\n",
              "| 11 | 219420 |  4.5952881 | 59.31319 | 40.68681 |  18.6263786 |\n",
              "| 12 | 270508 |  5.6652183 | 57.98350 | 42.01650 |  15.9669954 |\n",
              "| 13 | 278072 |  5.8236303 | 56.09770 | 43.90230 |  12.1954026 |\n",
              "| 14 | 284423 |  5.9566386 | 54.40348 | 45.59652 |   8.8069530 |\n",
              "| 15 | 325348 |  6.8137262 | 55.54729 | 44.45271 |  11.0945818 |\n",
              "| 16 | 397989 |  8.3350384 | 59.38732 | 40.61268 |  18.7746395 |\n",
              "| 17 | 486297 | 10.1844628 | 62.05200 | 37.94800 |  24.1039941 |\n",
              "| 18 | 429164 |  8.9879329 | 59.89528 | 40.10472 |  19.7905696 |\n",
              "| 19 | 326384 |  6.8354230 | 57.74885 | 42.25115 |  15.4976960 |\n",
              "| 20 | 233985 |  4.9003213 | 56.46430 | 43.53570 |  12.9286065 |\n",
              "| 21 | 183845 |  3.8502450 | 54.80704 | 45.19296 |   9.6140771 |\n",
              "| 22 | 151859 |  3.1803658 | 50.40399 | 49.59601 |   0.8079864 |\n",
              "| 23 | 108039 |  2.2626485 | 46.82106 | 53.17894 |  -6.3578893 |\n",
              "\n"
            ],
            "text/plain": [
              "   started_hour count  Percentage (%) Members_count Casual_count\n",
              "1  00            72301  1.5141916     43.55680      56.44320    \n",
              "2  01            45058  0.9436446     42.20782      57.79218    \n",
              "3  02            28498  0.5968304     39.18170      60.81830    \n",
              "4  03            16404  0.3435471     39.83175      60.16825    \n",
              "5  04            12388  0.2594405     50.88796      49.11204    \n",
              "6  05            31683  0.6635335     73.21276      26.78724    \n",
              "7  06            91941  1.9255099     78.16208      21.83792    \n",
              "8  07           178665  3.7417608     78.90018      21.09982    \n",
              "9  08           240068  5.0277169     77.54678      22.45322    \n",
              "10 09           183662  3.8464124     71.10017      28.89983    \n",
              "11 10           178890  3.7464730     62.83862      37.16138    \n",
              "12 11           219420  4.5952881     59.31319      40.68681    \n",
              "13 12           270508  5.6652183     57.98350      42.01650    \n",
              "14 13           278072  5.8236303     56.09770      43.90230    \n",
              "15 14           284423  5.9566386     54.40348      45.59652    \n",
              "16 15           325348  6.8137262     55.54729      44.45271    \n",
              "17 16           397989  8.3350384     59.38732      40.61268    \n",
              "18 17           486297 10.1844628     62.05200      37.94800    \n",
              "19 18           429164  8.9879329     59.89528      40.10472    \n",
              "20 19           326384  6.8354230     57.74885      42.25115    \n",
              "21 20           233985  4.9003213     56.46430      43.53570    \n",
              "22 21           183845  3.8502450     54.80704      45.19296    \n",
              "23 22           151859  3.1803658     50.40399      49.59601    \n",
              "24 23           108039  2.2626485     46.82106      53.17894    \n",
              "   Diff Member<-> Casual\n",
              "1  -12.8864054          \n",
              "2  -15.5843579          \n",
              "3  -21.6366061          \n",
              "4  -20.3365033          \n",
              "5    1.7759122          \n",
              "6   46.4255279          \n",
              "7   56.3241644          \n",
              "8   57.8003526          \n",
              "9   55.0935568          \n",
              "10  42.2003463          \n",
              "11  25.6772318          \n",
              "12  18.6263786          \n",
              "13  15.9669954          \n",
              "14  12.1954026          \n",
              "15   8.8069530          \n",
              "16  11.0945818          \n",
              "17  18.7746395          \n",
              "18  24.1039941          \n",
              "19  19.7905696          \n",
              "20  15.4976960          \n",
              "21  12.9286065          \n",
              "22   9.6140771          \n",
              "23   0.8079864          \n",
              "24  -6.3578893          "
            ]
          },
          "metadata": {},
          "output_type": "display_data"
        }
      ],
      "source": [
        "tips_1 %>%\n",
        "  group_by(started_hour) %>%\n",
        "  summarise(count = length(ride_id), \"Percentage (%)\" = length(ride_id)/nrow(tips_1)*100,\"Members_count\"= (sum(member_casual == \"member\")/length(ride_id))*100,\"Casual_count\"=(sum(member_casual == \"casual\")/length(ride_id))*100, \"Diff Member<-> Casual\" = Members_count-Casual_count)"
      ]
    },
    {
      "cell_type": "code",
      "execution_count": null,
      "id": "4053ccc5",
      "metadata": {
        "execution": {
          "iopub.execute_input": "2023-02-02T08:02:30.111721Z",
          "iopub.status.busy": "2023-02-02T08:02:30.110020Z",
          "iopub.status.idle": "2023-02-02T08:02:43.570556Z",
          "shell.execute_reply": "2023-02-02T08:02:43.568690Z"
        },
        "papermill": {
          "duration": 13.487148,
          "end_time": "2023-02-02T08:02:43.573092",
          "exception": false,
          "start_time": "2023-02-02T08:02:30.085944",
          "status": "completed"
        },
        "tags": [],
        "id": "4053ccc5",
        "outputId": "8603658d-08a3-4b64-84df-7c790849c9e8"
      },
      "outputs": [
        {
          "data": {
            "image/png": "[encoded data removed]"
          },
          "metadata": {
            "image/png": {
              "height": 420,
              "width": 1080
            }
          },
          "output_type": "display_data"
        }
      ],
      "source": [
        "tips_1 %>%\n",
        "  ggplot(aes(started_hour,fill = member_casual))+geom_bar()+labs(x=\"Hours\", title=\"Distribution of Casual & Members Hour wise\")+ theme(\n",
        "  panel.background = element_rect(fill = \"white\"))"
      ]
    },
    {
      "cell_type": "markdown",
      "id": "4ded0757",
      "metadata": {
        "papermill": {
          "duration": 0.022093,
          "end_time": "2023-02-02T08:02:43.618269",
          "exception": false,
          "start_time": "2023-02-02T08:02:43.596176",
          "status": "completed"
        },
        "tags": [],
        "id": "4ded0757"
      },
      "source": [
        "In this distribution we can see that as usual users are less during 12am - 5am as most of the people goes to sleep at that time and the most user are during 8am - 8pm which consists both office and school/college starting time to closing time. And here also we can see members users use more than casual evey hour of the day. We Can see 5 pm is the most used time with 10.18%."
      ]
    },
    {
      "cell_type": "markdown",
      "id": "0bc5b7fb",
      "metadata": {
        "papermill": {
          "duration": 0.021846,
          "end_time": "2023-02-02T08:02:43.661902",
          "exception": false,
          "start_time": "2023-02-02T08:02:43.640056",
          "status": "completed"
        },
        "tags": [],
        "id": "0bc5b7fb"
      },
      "source": [
        "**Weekday Distribution of Member & Casual User**\n",
        "\n",
        "Mow we will get to see the diostribution of usage between Members & Casual in eveyday of a week."
      ]
    },
    {
      "cell_type": "code",
      "execution_count": null,
      "id": "14f711e5",
      "metadata": {
        "execution": {
          "iopub.execute_input": "2023-02-02T08:02:43.710789Z",
          "iopub.status.busy": "2023-02-02T08:02:43.709191Z",
          "iopub.status.idle": "2023-02-02T08:02:45.770704Z",
          "shell.execute_reply": "2023-02-02T08:02:45.768953Z"
        },
        "papermill": {
          "duration": 2.089341,
          "end_time": "2023-02-02T08:02:45.773837",
          "exception": false,
          "start_time": "2023-02-02T08:02:43.684496",
          "status": "completed"
        },
        "tags": [],
        "id": "14f711e5",
        "outputId": "92df0b57-7680-476e-82eb-fea28dc758c0"
      },
      "outputs": [
        {
          "data": {
            "text/html": [
              "<table class=\"dataframe\">\n",
              "<caption>A tibble: 7 × 6</caption>\n",
              "<thead>\n",
              "\t<tr><th scope=col>weekday</th><th scope=col>count</th><th scope=col>Percentage (%)</th><th scope=col>Members_count</th><th scope=col>Casual_count</th><th scope=col>Diff Member&lt;-&gt; Casual</th></tr>\n",
              "\t<tr><th scope=col>&lt;chr&gt;</th><th scope=col>&lt;int&gt;</th><th scope=col>&lt;dbl&gt;</th><th scope=col>&lt;dbl&gt;</th><th scope=col>&lt;dbl&gt;</th><th scope=col>&lt;dbl&gt;</th></tr>\n",
              "</thead>\n",
              "<tbody>\n",
              "\t<tr><td>Fri</td><td>665639</td><td>13.94040</td><td>59.35725</td><td>40.64275</td><td>18.714498</td></tr>\n",
              "\t<tr><td>Mon</td><td>638542</td><td>13.37291</td><td>64.07127</td><td>35.92873</td><td>28.142550</td></tr>\n",
              "\t<tr><td>Sat</td><td>768919</td><td>16.10338</td><td>48.54087</td><td>51.45913</td><td>-2.918253</td></tr>\n",
              "\t<tr><td>Sun</td><td>658010</td><td>13.78063</td><td>50.07416</td><td>49.92584</td><td> 0.148326</td></tr>\n",
              "\t<tr><td>Thu</td><td>707159</td><td>14.80995</td><td>64.42950</td><td>35.57050</td><td>28.858998</td></tr>\n",
              "\t<tr><td>Tue</td><td>662796</td><td>13.88086</td><td>67.62066</td><td>32.37934</td><td>35.241311</td></tr>\n",
              "\t<tr><td>Wed</td><td>673826</td><td>14.11186</td><td>66.93568</td><td>33.06432</td><td>33.871356</td></tr>\n",
              "</tbody>\n",
              "</table>\n"
            ],
            "text/latex": [
              "A tibble: 7 × 6\n",
              "\\begin{tabular}{llllll}\n",
              " weekday & count & Percentage (\\%) & Members\\_count & Casual\\_count & Diff Member<-> Casual\\\\\n",
              " <chr> & <int> & <dbl> & <dbl> & <dbl> & <dbl>\\\\\n",
              "\\hline\n",
              "\t Fri & 665639 & 13.94040 & 59.35725 & 40.64275 & 18.714498\\\\\n",
              "\t Mon & 638542 & 13.37291 & 64.07127 & 35.92873 & 28.142550\\\\\n",
              "\t Sat & 768919 & 16.10338 & 48.54087 & 51.45913 & -2.918253\\\\\n",
              "\t Sun & 658010 & 13.78063 & 50.07416 & 49.92584 &  0.148326\\\\\n",
              "\t Thu & 707159 & 14.80995 & 64.42950 & 35.57050 & 28.858998\\\\\n",
              "\t Tue & 662796 & 13.88086 & 67.62066 & 32.37934 & 35.241311\\\\\n",
              "\t Wed & 673826 & 14.11186 & 66.93568 & 33.06432 & 33.871356\\\\\n",
              "\\end{tabular}\n"
            ],
            "text/markdown": [
              "\n",
              "A tibble: 7 × 6\n",
              "\n",
              "| weekday &lt;chr&gt; | count &lt;int&gt; | Percentage (%) &lt;dbl&gt; | Members_count &lt;dbl&gt; | Casual_count &lt;dbl&gt; | Diff Member&lt;-&gt; Casual &lt;dbl&gt; |\n",
              "|---|---|---|---|---|---|\n",
              "| Fri | 665639 | 13.94040 | 59.35725 | 40.64275 | 18.714498 |\n",
              "| Mon | 638542 | 13.37291 | 64.07127 | 35.92873 | 28.142550 |\n",
              "| Sat | 768919 | 16.10338 | 48.54087 | 51.45913 | -2.918253 |\n",
              "| Sun | 658010 | 13.78063 | 50.07416 | 49.92584 |  0.148326 |\n",
              "| Thu | 707159 | 14.80995 | 64.42950 | 35.57050 | 28.858998 |\n",
              "| Tue | 662796 | 13.88086 | 67.62066 | 32.37934 | 35.241311 |\n",
              "| Wed | 673826 | 14.11186 | 66.93568 | 33.06432 | 33.871356 |\n",
              "\n"
            ],
            "text/plain": [
              "  weekday count  Percentage (%) Members_count Casual_count\n",
              "1 Fri     665639 13.94040       59.35725      40.64275    \n",
              "2 Mon     638542 13.37291       64.07127      35.92873    \n",
              "3 Sat     768919 16.10338       48.54087      51.45913    \n",
              "4 Sun     658010 13.78063       50.07416      49.92584    \n",
              "5 Thu     707159 14.80995       64.42950      35.57050    \n",
              "6 Tue     662796 13.88086       67.62066      32.37934    \n",
              "7 Wed     673826 14.11186       66.93568      33.06432    \n",
              "  Diff Member<-> Casual\n",
              "1 18.714498            \n",
              "2 28.142550            \n",
              "3 -2.918253            \n",
              "4  0.148326            \n",
              "5 28.858998            \n",
              "6 35.241311            \n",
              "7 33.871356            "
            ]
          },
          "metadata": {},
          "output_type": "display_data"
        }
      ],
      "source": [
        "tips_1 %>%\n",
        "  group_by(weekday) %>%\n",
        "  summarise(count = length(ride_id), \"Percentage (%)\" = length(ride_id)/nrow(tips_1)*100,\"Members_count\"= (sum(member_casual == \"member\")/length(ride_id))*100,\"Casual_count\"=(sum(member_casual == \"casual\")/length(ride_id))*100, \"Diff Member<-> Casual\" = Members_count-Casual_count)"
      ]
    },
    {
      "cell_type": "code",
      "execution_count": null,
      "id": "e816aef0",
      "metadata": {
        "execution": {
          "iopub.execute_input": "2023-02-02T08:02:45.823947Z",
          "iopub.status.busy": "2023-02-02T08:02:45.822345Z",
          "iopub.status.idle": "2023-02-02T08:02:58.080310Z",
          "shell.execute_reply": "2023-02-02T08:02:58.077411Z"
        },
        "papermill": {
          "duration": 12.287423,
          "end_time": "2023-02-02T08:02:58.083894",
          "exception": false,
          "start_time": "2023-02-02T08:02:45.796471",
          "status": "completed"
        },
        "tags": [],
        "id": "e816aef0",
        "outputId": "2882a27b-4663-427b-f5b0-dc19f5264408"
      },
      "outputs": [
        {
          "data": {
            "image/png": "[encoded data removed]"
          },
          "metadata": {
            "image/png": {
              "height": 420,
              "width": 1080
            }
          },
          "output_type": "display_data"
        }
      ],
      "source": [
        "tips_1$weekday <- ordered(tips_1$weekday, levels=c(\"Sun\", \"Mon\", \"Tue\", \"Wed\", \"Thu\", \"Fri\", \"Sat\"))\n",
        "tips_1 %>%\n",
        "  ggplot(aes(weekday,fill= member_casual))+geom_bar()+labs(x=\"Days\", title=\"Distribution of Casual & Members Day wise\")+ theme(\n",
        "  panel.background = element_rect(fill = \"white\"))"
      ]
    },
    {
      "cell_type": "markdown",
      "id": "b9e849d0",
      "metadata": {
        "papermill": {
          "duration": 0.022215,
          "end_time": "2023-02-02T08:02:58.129016",
          "exception": false,
          "start_time": "2023-02-02T08:02:58.106801",
          "status": "completed"
        },
        "tags": [],
        "id": "b9e849d0"
      },
      "source": [
        "Here we can see data distribution with each day, Members usually use the bycicles for a certain perpous it can be office or school/collge goers but we can see in the weekend there is almost 50-50 distribution of casual and members and saturday is the day users use the cycles most with 16.1% of use Casual people ride more on saturdays than members, I think people like to enjoy their weekends with cycle more."
      ]
    },
    {
      "cell_type": "markdown",
      "id": "e54933a2",
      "metadata": {
        "papermill": {
          "duration": 0.022423,
          "end_time": "2023-02-02T08:02:58.173997",
          "exception": false,
          "start_time": "2023-02-02T08:02:58.151574",
          "status": "completed"
        },
        "tags": [],
        "id": "e54933a2"
      },
      "source": [
        "**Monthly Distribution of Casual & Members**\n",
        "\n",
        "Now we will see the distribution varied by months"
      ]
    },
    {
      "cell_type": "code",
      "execution_count": null,
      "id": "5140ed92",
      "metadata": {
        "execution": {
          "iopub.execute_input": "2023-02-02T08:02:58.222530Z",
          "iopub.status.busy": "2023-02-02T08:02:58.220933Z",
          "iopub.status.idle": "2023-02-02T08:02:58.611895Z",
          "shell.execute_reply": "2023-02-02T08:02:58.609580Z"
        },
        "papermill": {
          "duration": 0.418259,
          "end_time": "2023-02-02T08:02:58.614871",
          "exception": false,
          "start_time": "2023-02-02T08:02:58.196612",
          "status": "completed"
        },
        "tags": [],
        "id": "5140ed92",
        "outputId": "fcb89871-9177-46de-e19a-7e652449c5df"
      },
      "outputs": [
        {
          "data": {
            "text/html": [
              "<table class=\"dataframe\">\n",
              "<caption>A tibble: 12 × 6</caption>\n",
              "<thead>\n",
              "\t<tr><th scope=col>month</th><th scope=col>count</th><th scope=col>Percentage (%)</th><th scope=col>Members_count</th><th scope=col>Casual_count</th><th scope=col>Diff Member&lt;-&gt; Casual</th></tr>\n",
              "\t<tr><th scope=col>&lt;chr&gt;</th><th scope=col>&lt;int&gt;</th><th scope=col>&lt;dbl&gt;</th><th scope=col>&lt;dbl&gt;</th><th scope=col>&lt;dbl&gt;</th><th scope=col>&lt;dbl&gt;</th></tr>\n",
              "</thead>\n",
              "<tbody>\n",
              "\t<tr><td>01 ( Jan )</td><td> 85843</td><td> 1.797800</td><td>83.91482</td><td>16.08518</td><td>67.829642</td></tr>\n",
              "\t<tr><td>02 ( Feb )</td><td> 95254</td><td> 1.994894</td><td>82.77343</td><td>17.22657</td><td>65.546854</td></tr>\n",
              "\t<tr><td>03 ( Mar )</td><td>232883</td><td> 4.877242</td><td>68.96639</td><td>31.03361</td><td>37.932782</td></tr>\n",
              "\t<tr><td>04 ( Apr )</td><td>295961</td><td> 6.198278</td><td>66.43916</td><td>33.56084</td><td>32.878318</td></tr>\n",
              "\t<tr><td>05 ( May )</td><td>541687</td><td>11.344489</td><td>56.46859</td><td>43.53141</td><td>12.937176</td></tr>\n",
              "\t<tr><td>06 ( Jun )</td><td>669046</td><td>14.011754</td><td>53.05868</td><td>46.94132</td><td> 6.117367</td></tr>\n",
              "\t<tr><td>07 ( Jul )</td><td>702521</td><td>14.712818</td><td>51.76287</td><td>48.23713</td><td> 3.525731</td></tr>\n",
              "\t<tr><td>08 ( Aug )</td><td>665395</td><td>13.935292</td><td>55.53258</td><td>44.46742</td><td>11.065157</td></tr>\n",
              "\t<tr><td>09 ( Sep )</td><td>590146</td><td>12.359361</td><td>58.87475</td><td>41.12525</td><td>17.749506</td></tr>\n",
              "\t<tr><td>10 ( Oct )</td><td>462065</td><td> 9.676975</td><td>63.75272</td><td>36.24728</td><td>27.505438</td></tr>\n",
              "\t<tr><td>11 ( Nov )</td><td>283442</td><td> 5.936094</td><td>71.33699</td><td>28.66301</td><td>42.673986</td></tr>\n",
              "\t<tr><td>12 ( Dec )</td><td>150648</td><td> 3.155004</td><td>76.61569</td><td>23.38431</td><td>53.231374</td></tr>\n",
              "</tbody>\n",
              "</table>\n"
            ],
            "text/latex": [
              "A tibble: 12 × 6\n",
              "\\begin{tabular}{llllll}\n",
              " month & count & Percentage (\\%) & Members\\_count & Casual\\_count & Diff Member<-> Casual\\\\\n",
              " <chr> & <int> & <dbl> & <dbl> & <dbl> & <dbl>\\\\\n",
              "\\hline\n",
              "\t 01 ( Jan ) &  85843 &  1.797800 & 83.91482 & 16.08518 & 67.829642\\\\\n",
              "\t 02 ( Feb ) &  95254 &  1.994894 & 82.77343 & 17.22657 & 65.546854\\\\\n",
              "\t 03 ( Mar ) & 232883 &  4.877242 & 68.96639 & 31.03361 & 37.932782\\\\\n",
              "\t 04 ( Apr ) & 295961 &  6.198278 & 66.43916 & 33.56084 & 32.878318\\\\\n",
              "\t 05 ( May ) & 541687 & 11.344489 & 56.46859 & 43.53141 & 12.937176\\\\\n",
              "\t 06 ( Jun ) & 669046 & 14.011754 & 53.05868 & 46.94132 &  6.117367\\\\\n",
              "\t 07 ( Jul ) & 702521 & 14.712818 & 51.76287 & 48.23713 &  3.525731\\\\\n",
              "\t 08 ( Aug ) & 665395 & 13.935292 & 55.53258 & 44.46742 & 11.065157\\\\\n",
              "\t 09 ( Sep ) & 590146 & 12.359361 & 58.87475 & 41.12525 & 17.749506\\\\\n",
              "\t 10 ( Oct ) & 462065 &  9.676975 & 63.75272 & 36.24728 & 27.505438\\\\\n",
              "\t 11 ( Nov ) & 283442 &  5.936094 & 71.33699 & 28.66301 & 42.673986\\\\\n",
              "\t 12 ( Dec ) & 150648 &  3.155004 & 76.61569 & 23.38431 & 53.231374\\\\\n",
              "\\end{tabular}\n"
            ],
            "text/markdown": [
              "\n",
              "A tibble: 12 × 6\n",
              "\n",
              "| month &lt;chr&gt; | count &lt;int&gt; | Percentage (%) &lt;dbl&gt; | Members_count &lt;dbl&gt; | Casual_count &lt;dbl&gt; | Diff Member&lt;-&gt; Casual &lt;dbl&gt; |\n",
              "|---|---|---|---|---|---|\n",
              "| 01 ( Jan ) |  85843 |  1.797800 | 83.91482 | 16.08518 | 67.829642 |\n",
              "| 02 ( Feb ) |  95254 |  1.994894 | 82.77343 | 17.22657 | 65.546854 |\n",
              "| 03 ( Mar ) | 232883 |  4.877242 | 68.96639 | 31.03361 | 37.932782 |\n",
              "| 04 ( Apr ) | 295961 |  6.198278 | 66.43916 | 33.56084 | 32.878318 |\n",
              "| 05 ( May ) | 541687 | 11.344489 | 56.46859 | 43.53141 | 12.937176 |\n",
              "| 06 ( Jun ) | 669046 | 14.011754 | 53.05868 | 46.94132 |  6.117367 |\n",
              "| 07 ( Jul ) | 702521 | 14.712818 | 51.76287 | 48.23713 |  3.525731 |\n",
              "| 08 ( Aug ) | 665395 | 13.935292 | 55.53258 | 44.46742 | 11.065157 |\n",
              "| 09 ( Sep ) | 590146 | 12.359361 | 58.87475 | 41.12525 | 17.749506 |\n",
              "| 10 ( Oct ) | 462065 |  9.676975 | 63.75272 | 36.24728 | 27.505438 |\n",
              "| 11 ( Nov ) | 283442 |  5.936094 | 71.33699 | 28.66301 | 42.673986 |\n",
              "| 12 ( Dec ) | 150648 |  3.155004 | 76.61569 | 23.38431 | 53.231374 |\n",
              "\n"
            ],
            "text/plain": [
              "   month      count  Percentage (%) Members_count Casual_count\n",
              "1  01 ( Jan )  85843  1.797800      83.91482      16.08518    \n",
              "2  02 ( Feb )  95254  1.994894      82.77343      17.22657    \n",
              "3  03 ( Mar ) 232883  4.877242      68.96639      31.03361    \n",
              "4  04 ( Apr ) 295961  6.198278      66.43916      33.56084    \n",
              "5  05 ( May ) 541687 11.344489      56.46859      43.53141    \n",
              "6  06 ( Jun ) 669046 14.011754      53.05868      46.94132    \n",
              "7  07 ( Jul ) 702521 14.712818      51.76287      48.23713    \n",
              "8  08 ( Aug ) 665395 13.935292      55.53258      44.46742    \n",
              "9  09 ( Sep ) 590146 12.359361      58.87475      41.12525    \n",
              "10 10 ( Oct ) 462065  9.676975      63.75272      36.24728    \n",
              "11 11 ( Nov ) 283442  5.936094      71.33699      28.66301    \n",
              "12 12 ( Dec ) 150648  3.155004      76.61569      23.38431    \n",
              "   Diff Member<-> Casual\n",
              "1  67.829642            \n",
              "2  65.546854            \n",
              "3  37.932782            \n",
              "4  32.878318            \n",
              "5  12.937176            \n",
              "6   6.117367            \n",
              "7   3.525731            \n",
              "8  11.065157            \n",
              "9  17.749506            \n",
              "10 27.505438            \n",
              "11 42.673986            \n",
              "12 53.231374            "
            ]
          },
          "metadata": {},
          "output_type": "display_data"
        }
      ],
      "source": [
        "tips_1 %>%\n",
        "  group_by(month) %>%\n",
        "  summarise(count = length(ride_id), \"Percentage (%)\" = length(ride_id)/nrow(tips_1)*100,\"Members_count\"= (sum(member_casual == \"member\")/length(ride_id))*100,\"Casual_count\"=(sum(member_casual == \"casual\")/length(ride_id))*100, \"Diff Member<-> Casual\" = Members_count-Casual_count)"
      ]
    },
    {
      "cell_type": "code",
      "execution_count": null,
      "id": "32703fff",
      "metadata": {
        "execution": {
          "iopub.execute_input": "2023-02-02T08:02:58.664886Z",
          "iopub.status.busy": "2023-02-02T08:02:58.663162Z",
          "iopub.status.idle": "2023-02-02T08:03:10.388245Z",
          "shell.execute_reply": "2023-02-02T08:03:10.386183Z"
        },
        "papermill": {
          "duration": 11.753032,
          "end_time": "2023-02-02T08:03:10.391054",
          "exception": false,
          "start_time": "2023-02-02T08:02:58.638022",
          "status": "completed"
        },
        "tags": [],
        "id": "32703fff",
        "outputId": "5b0c625c-f81b-4ebf-fa8f-9df23981716e"
      },
      "outputs": [
        {
          "data": {
            "image/png": "[encoded data removed]"
          },
          "metadata": {
            "image/png": {
              "height": 420,
              "width": 1080
            }
          },
          "output_type": "display_data"
        }
      ],
      "source": [
        "tips_1 %>%\n",
        "  ggplot(aes(month,fill= member_casual))+geom_bar()+labs(x=\"Months\", title=\"Distribution of Casual & Members Month wise\") + theme(\n",
        "  panel.background = element_rect(fill = \"white\"))"
      ]
    },
    {
      "cell_type": "markdown",
      "id": "d7457b37",
      "metadata": {
        "papermill": {
          "duration": 0.023826,
          "end_time": "2023-02-02T08:03:10.439758",
          "exception": false,
          "start_time": "2023-02-02T08:03:10.415932",
          "status": "completed"
        },
        "tags": [],
        "id": "d7457b37"
      },
      "source": [
        "Here We can see the distribution of data throughout the year. If we look carefully winter months have less users than summer and spring months so definately weather effects users to use the cycles. I think they prefer public transports during winter. And July is the month with the most of uses around ~14.7% and january is the lowest used month with 1.7%. Surprisingly Members Use more cycles during winter months and the gap between Members and casual users reduces during summer months as casual riders use more and members use less comparitively to their winter use."
      ]
    },
    {
      "cell_type": "code",
      "execution_count": null,
      "id": "c02592b2",
      "metadata": {
        "execution": {
          "iopub.execute_input": "2023-02-02T08:03:10.491419Z",
          "iopub.status.busy": "2023-02-02T08:03:10.489665Z",
          "iopub.status.idle": "2023-02-02T08:03:27.452651Z",
          "shell.execute_reply": "2023-02-02T08:03:27.450808Z"
        },
        "papermill": {
          "duration": 16.992478,
          "end_time": "2023-02-02T08:03:27.455615",
          "exception": false,
          "start_time": "2023-02-02T08:03:10.463137",
          "status": "completed"
        },
        "tags": [],
        "id": "c02592b2",
        "outputId": "97ab1ea0-9cce-46dd-ad90-27eed5f2b3a6"
      },
      "outputs": [
        {
          "data": {
            "image/png": "[encoded data removed]"
          },
          "metadata": {
            "image/png": {
              "height": 420,
              "width": 1080
            }
          },
          "output_type": "display_data"
        }
      ],
      "source": [
        "tips_1 %>%\n",
        "  ggplot(aes(started_hour,fill = member_casual))+geom_bar()+labs(x=\"Hours\", title=\"Distribution of Casual & Members Hour wise\")+ theme(\n",
        "  panel.background = element_rect(fill = \"white\")) + facet_wrap(~weekday)"
      ]
    },
    {
      "cell_type": "markdown",
      "id": "7ed4fe24",
      "metadata": {
        "papermill": {
          "duration": 0.025494,
          "end_time": "2023-02-02T08:03:27.507741",
          "exception": false,
          "start_time": "2023-02-02T08:03:27.482247",
          "status": "completed"
        },
        "tags": [],
        "id": "7ed4fe24"
      },
      "source": [
        "As we can see that sunday and saturday being the weekends there is a smoth curve in the distribution of data, But in the weekdays there is a systemetical up down in the data. During morning our the usage is more in weekends than weekdays and use from casula users is also bigger than weekdays. During weekdays the peak time is usually 5pm to 6pm indicating that those user use the cycle for their daily routine."
      ]
    },
    {
      "cell_type": "markdown",
      "id": "c06934f4",
      "metadata": {
        "papermill": {
          "duration": 0.025356,
          "end_time": "2023-02-02T08:03:27.558093",
          "exception": false,
          "start_time": "2023-02-02T08:03:27.532737",
          "status": "completed"
        },
        "tags": [],
        "id": "c06934f4"
      },
      "source": [
        "**Other Variables**"
      ]
    },
    {
      "cell_type": "code",
      "execution_count": null,
      "id": "4b07b8a9",
      "metadata": {
        "execution": {
          "iopub.execute_input": "2023-02-02T08:03:27.612589Z",
          "iopub.status.busy": "2023-02-02T08:03:27.610840Z",
          "iopub.status.idle": "2023-02-02T08:03:28.023089Z",
          "shell.execute_reply": "2023-02-02T08:03:28.021091Z"
        },
        "papermill": {
          "duration": 0.442746,
          "end_time": "2023-02-02T08:03:28.025411",
          "exception": false,
          "start_time": "2023-02-02T08:03:27.582665",
          "status": "completed"
        },
        "tags": [],
        "id": "4b07b8a9",
        "outputId": "84f5bd82-b117-48d9-ae6e-8d531bcd6d02"
      },
      "outputs": [
        {
          "data": {
            "text/html": [
              "<style>\n",
              ".dl-inline {width: auto; margin:0; padding: 0}\n",
              ".dl-inline>dt, .dl-inline>dd {float: none; width: auto; display: inline-block}\n",
              ".dl-inline>dt::after {content: \":\\0020\"; padding-right: .5ex}\n",
              ".dl-inline>dt:not(:first-of-type) {padding-left: .5ex}\n",
              "</style><dl class=dl-inline><dt>0%</dt><dd>0</dd><dt>5%</dt><dd>2.55</dd><dt>10%</dt><dd>3.61666666666667</dd><dt>15%</dt><dd>4.46666666666667</dd><dt>20%</dt><dd>5.25</dd><dt>25%</dt><dd>6.03333333333333</dd><dt>30%</dt><dd>6.83333333333333</dd><dt>35%</dt><dd>7.66666666666667</dd><dt>40%</dt><dd>8.55</dd><dt>45%</dt><dd>9.51666666666667</dd><dt>50%</dt><dd>10.55</dd><dt>55%</dt><dd>11.7166666666667</dd><dt>60%</dt><dd>13.05</dd><dt>65%</dt><dd>14.6166666666667</dd><dt>70%</dt><dd>16.4833333333333</dd><dt>75%</dt><dd>18.8</dd><dt>80%</dt><dd>21.8333333333333</dd><dt>85%</dt><dd>26.0333333333333</dd><dt>90%</dt><dd>32.55</dd><dt>95%</dt><dd>46.2333333333333</dd><dt>100%</dt><dd>34354.0666666667</dd></dl>\n"
            ],
            "text/latex": [
              "\\begin{description*}\n",
              "\\item[0\\textbackslash{}\\%] 0\n",
              "\\item[5\\textbackslash{}\\%] 2.55\n",
              "\\item[10\\textbackslash{}\\%] 3.61666666666667\n",
              "\\item[15\\textbackslash{}\\%] 4.46666666666667\n",
              "\\item[20\\textbackslash{}\\%] 5.25\n",
              "\\item[25\\textbackslash{}\\%] 6.03333333333333\n",
              "\\item[30\\textbackslash{}\\%] 6.83333333333333\n",
              "\\item[35\\textbackslash{}\\%] 7.66666666666667\n",
              "\\item[40\\textbackslash{}\\%] 8.55\n",
              "\\item[45\\textbackslash{}\\%] 9.51666666666667\n",
              "\\item[50\\textbackslash{}\\%] 10.55\n",
              "\\item[55\\textbackslash{}\\%] 11.7166666666667\n",
              "\\item[60\\textbackslash{}\\%] 13.05\n",
              "\\item[65\\textbackslash{}\\%] 14.6166666666667\n",
              "\\item[70\\textbackslash{}\\%] 16.4833333333333\n",
              "\\item[75\\textbackslash{}\\%] 18.8\n",
              "\\item[80\\textbackslash{}\\%] 21.8333333333333\n",
              "\\item[85\\textbackslash{}\\%] 26.0333333333333\n",
              "\\item[90\\textbackslash{}\\%] 32.55\n",
              "\\item[95\\textbackslash{}\\%] 46.2333333333333\n",
              "\\item[100\\textbackslash{}\\%] 34354.0666666667\n",
              "\\end{description*}\n"
            ],
            "text/markdown": [
              "0%\n",
              ":   05%\n",
              ":   2.5510%\n",
              ":   3.6166666666666715%\n",
              ":   4.4666666666666720%\n",
              ":   5.2525%\n",
              ":   6.0333333333333330%\n",
              ":   6.8333333333333335%\n",
              ":   7.6666666666666740%\n",
              ":   8.5545%\n",
              ":   9.5166666666666750%\n",
              ":   10.5555%\n",
              ":   11.716666666666760%\n",
              ":   13.0565%\n",
              ":   14.616666666666770%\n",
              ":   16.483333333333375%\n",
              ":   18.880%\n",
              ":   21.833333333333385%\n",
              ":   26.033333333333390%\n",
              ":   32.5595%\n",
              ":   46.2333333333333100%\n",
              ":   34354.0666666667\n",
              "\n"
            ],
            "text/plain": [
              "          0%           5%          10%          15%          20%          25% \n",
              "    0.000000     2.550000     3.616667     4.466667     5.250000     6.033333 \n",
              "         30%          35%          40%          45%          50%          55% \n",
              "    6.833333     7.666667     8.550000     9.516667    10.550000    11.716667 \n",
              "         60%          65%          70%          75%          80%          85% \n",
              "   13.050000    14.616667    16.483333    18.800000    21.833333    26.033333 \n",
              "         90%          95%         100% \n",
              "   32.550000    46.233333 34354.066667 "
            ]
          },
          "metadata": {},
          "output_type": "display_data"
        }
      ],
      "source": [
        "Quartile = quantile(tips_1$ride_time_m, seq(0, 1, by=0.05))\n",
        "Quartile"
      ]
    },
    {
      "cell_type": "markdown",
      "id": "ebb6e859",
      "metadata": {
        "papermill": {
          "duration": 0.025755,
          "end_time": "2023-02-02T08:03:28.075854",
          "exception": false,
          "start_time": "2023-02-02T08:03:28.050099",
          "status": "completed"
        },
        "tags": [],
        "id": "ebb6e859"
      },
      "source": [
        "We can see in the quartiles because i have removed the negetive values 0% starts at 0, But difference between 0% and 100% is 34354.06 and difference between 5% and 95% is 43.68. There are alot of outliers in the data so now we will remove the outliers and work with the 95% of data."
      ]
    },
    {
      "cell_type": "code",
      "execution_count": null,
      "id": "ebd49764",
      "metadata": {
        "execution": {
          "iopub.execute_input": "2023-02-02T08:03:28.129641Z",
          "iopub.status.busy": "2023-02-02T08:03:28.127834Z",
          "iopub.status.idle": "2023-02-02T08:03:29.618454Z",
          "shell.execute_reply": "2023-02-02T08:03:29.616408Z"
        },
        "papermill": {
          "duration": 1.520382,
          "end_time": "2023-02-02T08:03:29.621130",
          "exception": false,
          "start_time": "2023-02-02T08:03:28.100748",
          "status": "completed"
        },
        "tags": [],
        "id": "ebd49764"
      },
      "outputs": [],
      "source": [
        "tips_No_Outliers <- tips_1 %>%\n",
        "    filter(ride_time_m > as.numeric(Quartile['5%'])) %>% filter(ride_time_m < as.numeric(Quartile['95%']))"
      ]
    },
    {
      "cell_type": "code",
      "execution_count": null,
      "id": "f58b0fbe",
      "metadata": {
        "execution": {
          "iopub.execute_input": "2023-02-02T08:03:29.675020Z",
          "iopub.status.busy": "2023-02-02T08:03:29.673376Z",
          "iopub.status.idle": "2023-02-02T08:03:31.942561Z",
          "shell.execute_reply": "2023-02-02T08:03:31.940768Z"
        },
        "papermill": {
          "duration": 2.298999,
          "end_time": "2023-02-02T08:03:31.944887",
          "exception": false,
          "start_time": "2023-02-02T08:03:29.645888",
          "status": "completed"
        },
        "tags": [],
        "id": "f58b0fbe",
        "outputId": "ad075a07-56df-433a-c4b2-887671d1dd16"
      },
      "outputs": [
        {
          "data": {
            "text/html": [
              "<table class=\"dataframe\">\n",
              "<caption>A tibble: 6 × 9</caption>\n",
              "<thead>\n",
              "\t<tr><th scope=col>ride_id</th><th scope=col>rideable_type</th><th scope=col>started_at</th><th scope=col>ended_at</th><th scope=col>member_casual</th><th scope=col>ride_time_m</th><th scope=col>started_hour</th><th scope=col>weekday</th><th scope=col>month</th></tr>\n",
              "\t<tr><th scope=col>&lt;chr&gt;</th><th scope=col>&lt;chr&gt;</th><th scope=col>&lt;chr&gt;</th><th scope=col>&lt;chr&gt;</th><th scope=col>&lt;chr&gt;</th><th scope=col>&lt;dbl&gt;</th><th scope=col>&lt;chr&gt;</th><th scope=col>&lt;ord&gt;</th><th scope=col>&lt;chr&gt;</th></tr>\n",
              "</thead>\n",
              "<tbody>\n",
              "\t<tr><td>C2F7DD78E82EC875</td><td>electric_bike</td><td>2022-01-13 11:59:47</td><td>2022-01-13 12:02:44</td><td>casual</td><td> 2.950000</td><td>12</td><td>Thu</td><td>01 ( Jan )</td></tr>\n",
              "\t<tr><td>A6CF8980A652D272</td><td>electric_bike</td><td>2022-01-10 08:41:56</td><td>2022-01-10 08:46:17</td><td>casual</td><td> 4.350000</td><td>08</td><td>Mon</td><td>01 ( Jan )</td></tr>\n",
              "\t<tr><td>BD0F91DFF741C66D</td><td>classic_bike </td><td>2022-01-25 04:53:40</td><td>2022-01-25 04:58:01</td><td>member</td><td> 4.350000</td><td>04</td><td>Tue</td><td>01 ( Jan )</td></tr>\n",
              "\t<tr><td>CBB80ED419105406</td><td>classic_bike </td><td>2022-01-04 00:18:04</td><td>2022-01-04 00:33:00</td><td>casual</td><td>14.933333</td><td>00</td><td>Tue</td><td>01 ( Jan )</td></tr>\n",
              "\t<tr><td>DDC963BFDDA51EEA</td><td>classic_bike </td><td>2022-01-20 01:31:10</td><td>2022-01-20 01:37:12</td><td>member</td><td> 6.033333</td><td>01</td><td>Thu</td><td>01 ( Jan )</td></tr>\n",
              "\t<tr><td>A39C6F6CC0586C0B</td><td>classic_bike </td><td>2022-01-11 18:48:09</td><td>2022-01-11 18:51:31</td><td>member</td><td> 3.366667</td><td>18</td><td>Tue</td><td>01 ( Jan )</td></tr>\n",
              "</tbody>\n",
              "</table>\n"
            ],
            "text/latex": [
              "A tibble: 6 × 9\n",
              "\\begin{tabular}{lllllllll}\n",
              " ride\\_id & rideable\\_type & started\\_at & ended\\_at & member\\_casual & ride\\_time\\_m & started\\_hour & weekday & month\\\\\n",
              " <chr> & <chr> & <chr> & <chr> & <chr> & <dbl> & <chr> & <ord> & <chr>\\\\\n",
              "\\hline\n",
              "\t C2F7DD78E82EC875 & electric\\_bike & 2022-01-13 11:59:47 & 2022-01-13 12:02:44 & casual &  2.950000 & 12 & Thu & 01 ( Jan )\\\\\n",
              "\t A6CF8980A652D272 & electric\\_bike & 2022-01-10 08:41:56 & 2022-01-10 08:46:17 & casual &  4.350000 & 08 & Mon & 01 ( Jan )\\\\\n",
              "\t BD0F91DFF741C66D & classic\\_bike  & 2022-01-25 04:53:40 & 2022-01-25 04:58:01 & member &  4.350000 & 04 & Tue & 01 ( Jan )\\\\\n",
              "\t CBB80ED419105406 & classic\\_bike  & 2022-01-04 00:18:04 & 2022-01-04 00:33:00 & casual & 14.933333 & 00 & Tue & 01 ( Jan )\\\\\n",
              "\t DDC963BFDDA51EEA & classic\\_bike  & 2022-01-20 01:31:10 & 2022-01-20 01:37:12 & member &  6.033333 & 01 & Thu & 01 ( Jan )\\\\\n",
              "\t A39C6F6CC0586C0B & classic\\_bike  & 2022-01-11 18:48:09 & 2022-01-11 18:51:31 & member &  3.366667 & 18 & Tue & 01 ( Jan )\\\\\n",
              "\\end{tabular}\n"
            ],
            "text/markdown": [
              "\n",
              "A tibble: 6 × 9\n",
              "\n",
              "| ride_id &lt;chr&gt; | rideable_type &lt;chr&gt; | started_at &lt;chr&gt; | ended_at &lt;chr&gt; | member_casual &lt;chr&gt; | ride_time_m &lt;dbl&gt; | started_hour &lt;chr&gt; | weekday &lt;ord&gt; | month &lt;chr&gt; |\n",
              "|---|---|---|---|---|---|---|---|---|\n",
              "| C2F7DD78E82EC875 | electric_bike | 2022-01-13 11:59:47 | 2022-01-13 12:02:44 | casual |  2.950000 | 12 | Thu | 01 ( Jan ) |\n",
              "| A6CF8980A652D272 | electric_bike | 2022-01-10 08:41:56 | 2022-01-10 08:46:17 | casual |  4.350000 | 08 | Mon | 01 ( Jan ) |\n",
              "| BD0F91DFF741C66D | classic_bike  | 2022-01-25 04:53:40 | 2022-01-25 04:58:01 | member |  4.350000 | 04 | Tue | 01 ( Jan ) |\n",
              "| CBB80ED419105406 | classic_bike  | 2022-01-04 00:18:04 | 2022-01-04 00:33:00 | casual | 14.933333 | 00 | Tue | 01 ( Jan ) |\n",
              "| DDC963BFDDA51EEA | classic_bike  | 2022-01-20 01:31:10 | 2022-01-20 01:37:12 | member |  6.033333 | 01 | Thu | 01 ( Jan ) |\n",
              "| A39C6F6CC0586C0B | classic_bike  | 2022-01-11 18:48:09 | 2022-01-11 18:51:31 | member |  3.366667 | 18 | Tue | 01 ( Jan ) |\n",
              "\n"
            ],
            "text/plain": [
              "  ride_id          rideable_type started_at          ended_at           \n",
              "1 C2F7DD78E82EC875 electric_bike 2022-01-13 11:59:47 2022-01-13 12:02:44\n",
              "2 A6CF8980A652D272 electric_bike 2022-01-10 08:41:56 2022-01-10 08:46:17\n",
              "3 BD0F91DFF741C66D classic_bike  2022-01-25 04:53:40 2022-01-25 04:58:01\n",
              "4 CBB80ED419105406 classic_bike  2022-01-04 00:18:04 2022-01-04 00:33:00\n",
              "5 DDC963BFDDA51EEA classic_bike  2022-01-20 01:31:10 2022-01-20 01:37:12\n",
              "6 A39C6F6CC0586C0B classic_bike  2022-01-11 18:48:09 2022-01-11 18:51:31\n",
              "  member_casual ride_time_m started_hour weekday month     \n",
              "1 casual         2.950000   12           Thu     01 ( Jan )\n",
              "2 casual         4.350000   08           Mon     01 ( Jan )\n",
              "3 member         4.350000   04           Tue     01 ( Jan )\n",
              "4 casual        14.933333   00           Tue     01 ( Jan )\n",
              "5 member         6.033333   01           Thu     01 ( Jan )\n",
              "6 member         3.366667   18           Tue     01 ( Jan )"
            ]
          },
          "metadata": {},
          "output_type": "display_data"
        },
        {
          "data": {
            "text/html": [
              "<table class=\"dataframe\">\n",
              "<caption>A tibble: 2 × 6</caption>\n",
              "<thead>\n",
              "\t<tr><th scope=col>member_casual</th><th scope=col>mean</th><th scope=col>First_Q</th><th scope=col>median</th><th scope=col>Third_Q</th><th scope=col>Difference</th></tr>\n",
              "\t<tr><th scope=col>&lt;chr&gt;</th><th scope=col>&lt;dbl&gt;</th><th scope=col>&lt;dbl&gt;</th><th scope=col>&lt;dbl&gt;</th><th scope=col>&lt;dbl&gt;</th><th scope=col>&lt;dbl&gt;</th></tr>\n",
              "</thead>\n",
              "<tbody>\n",
              "\t<tr><td>casual</td><td>15.41776</td><td>7.766667</td><td>12.616667</td><td>20.71667</td><td>12.950000</td></tr>\n",
              "\t<tr><td>member</td><td>12.05817</td><td>5.816667</td><td> 9.433333</td><td>15.60000</td><td> 9.783333</td></tr>\n",
              "</tbody>\n",
              "</table>\n"
            ],
            "text/latex": [
              "A tibble: 2 × 6\n",
              "\\begin{tabular}{llllll}\n",
              " member\\_casual & mean & First\\_Q & median & Third\\_Q & Difference\\\\\n",
              " <chr> & <dbl> & <dbl> & <dbl> & <dbl> & <dbl>\\\\\n",
              "\\hline\n",
              "\t casual & 15.41776 & 7.766667 & 12.616667 & 20.71667 & 12.950000\\\\\n",
              "\t member & 12.05817 & 5.816667 &  9.433333 & 15.60000 &  9.783333\\\\\n",
              "\\end{tabular}\n"
            ],
            "text/markdown": [
              "\n",
              "A tibble: 2 × 6\n",
              "\n",
              "| member_casual &lt;chr&gt; | mean &lt;dbl&gt; | First_Q &lt;dbl&gt; | median &lt;dbl&gt; | Third_Q &lt;dbl&gt; | Difference &lt;dbl&gt; |\n",
              "|---|---|---|---|---|---|\n",
              "| casual | 15.41776 | 7.766667 | 12.616667 | 20.71667 | 12.950000 |\n",
              "| member | 12.05817 | 5.816667 |  9.433333 | 15.60000 |  9.783333 |\n",
              "\n"
            ],
            "text/plain": [
              "  member_casual mean     First_Q  median    Third_Q  Difference\n",
              "1 casual        15.41776 7.766667 12.616667 20.71667 12.950000 \n",
              "2 member        12.05817 5.816667  9.433333 15.60000  9.783333 "
            ]
          },
          "metadata": {},
          "output_type": "display_data"
        }
      ],
      "source": [
        "head(tips_No_Outliers)\n",
        "tips_No_Outliers %>%\n",
        "    group_by(member_casual) %>%\n",
        "    summarise(mean = mean(ride_time_m),\n",
        "              'First_Q' = as.numeric(quantile(ride_time_m, .25)),\n",
        "              'median' = median(ride_time_m),\n",
        "              'Third_Q' = as.numeric(quantile(ride_time_m, .75)),\n",
        "              'Difference' = Third_Q - First_Q)\n"
      ]
    },
    {
      "cell_type": "code",
      "execution_count": null,
      "id": "ee6e7d05",
      "metadata": {
        "execution": {
          "iopub.execute_input": "2023-02-02T08:03:31.999830Z",
          "iopub.status.busy": "2023-02-02T08:03:31.998234Z",
          "iopub.status.idle": "2023-02-02T08:03:53.121965Z",
          "shell.execute_reply": "2023-02-02T08:03:53.119159Z"
        },
        "papermill": {
          "duration": 21.155463,
          "end_time": "2023-02-02T08:03:53.125612",
          "exception": false,
          "start_time": "2023-02-02T08:03:31.970149",
          "status": "completed"
        },
        "tags": [],
        "id": "ee6e7d05",
        "outputId": "06cb0890-bf9f-4654-fa81-042a3bb051f9"
      },
      "outputs": [
        {
          "data": {
            "image/png": "[encoded data removed]"
          },
          "metadata": {
            "image/png": {
              "height": 420,
              "width": 1080
            }
          },
          "output_type": "display_data"
        }
      ],
      "source": [
        "ggplot(tips_No_Outliers, aes(x=member_casual, y=ride_time_m, fill=member_casual)) +labs(x=\"Member & Casual\", y=\"Riding time\", title=\"Distribution of Riding time for Casual & Member\") +\n",
        "    geom_boxplot()+ theme(panel.background = element_rect(fill = \"white\"))"
      ]
    },
    {
      "cell_type": "markdown",
      "id": "e6df1ee1",
      "metadata": {
        "papermill": {
          "duration": 0.026028,
          "end_time": "2023-02-02T08:03:53.179100",
          "exception": false,
          "start_time": "2023-02-02T08:03:53.153072",
          "status": "completed"
        },
        "tags": [],
        "id": "e6df1ee1"
      },
      "source": [
        "From This boxplot we can see that casual users have more riding time than members though members are more than casual users.\n",
        "and also mean of casual is greater than mean of members."
      ]
    },
    {
      "cell_type": "markdown",
      "id": "60b5abc8",
      "metadata": {
        "papermill": {
          "duration": 0.025861,
          "end_time": "2023-02-02T08:03:53.231025",
          "exception": false,
          "start_time": "2023-02-02T08:03:53.205164",
          "status": "completed"
        },
        "tags": [],
        "id": "60b5abc8"
      },
      "source": [
        "Now we can see using weekdays."
      ]
    },
    {
      "cell_type": "code",
      "execution_count": null,
      "id": "2157264b",
      "metadata": {
        "execution": {
          "iopub.execute_input": "2023-02-02T08:03:53.286179Z",
          "iopub.status.busy": "2023-02-02T08:03:53.284514Z",
          "iopub.status.idle": "2023-02-02T08:04:12.737872Z",
          "shell.execute_reply": "2023-02-02T08:04:12.735737Z"
        },
        "papermill": {
          "duration": 19.483917,
          "end_time": "2023-02-02T08:04:12.740632",
          "exception": false,
          "start_time": "2023-02-02T08:03:53.256715",
          "status": "completed"
        },
        "tags": [],
        "id": "2157264b",
        "outputId": "4ae4c1d8-e5bf-4826-fcdb-00ff3b3840d6"
      },
      "outputs": [
        {
          "data": {
            "image/png": "[encoded data removed]"
          },
          "metadata": {
            "image/png": {
              "height": 420,
              "width": 1080
            }
          },
          "output_type": "display_data"
        }
      ],
      "source": [
        "ggplot(tips_No_Outliers, aes(x=weekday, y=ride_time_m, fill=member_casual)) +\n",
        "    geom_boxplot() +\n",
        "    facet_wrap(~ member_casual) +\n",
        "    labs(x=\"Weekday\", y=\"Riding time\", title=\"Distribution of Data week wise\")+ theme(panel.background = element_rect(fill = \"white\"))"
      ]
    },
    {
      "cell_type": "markdown",
      "id": "79a68023",
      "metadata": {
        "papermill": {
          "duration": 0.02809,
          "end_time": "2023-02-02T08:04:12.796589",
          "exception": false,
          "start_time": "2023-02-02T08:04:12.768499",
          "status": "completed"
        },
        "tags": [],
        "id": "79a68023"
      },
      "source": [
        "Here also we can see that riding time is greater for casual than member casual riders ride more on weekends than weekdays but for member the weekday ride time is very much same but changes only in weekends."
      ]
    },
    {
      "cell_type": "markdown",
      "id": "54cff347",
      "metadata": {
        "papermill": {
          "duration": 0.028746,
          "end_time": "2023-02-02T08:04:12.852608",
          "exception": false,
          "start_time": "2023-02-02T08:04:12.823862",
          "status": "completed"
        },
        "tags": [],
        "id": "54cff347"
      },
      "source": [
        "We can do the same thing for ride type too."
      ]
    },
    {
      "cell_type": "code",
      "execution_count": null,
      "id": "983e14c7",
      "metadata": {
        "execution": {
          "iopub.execute_input": "2023-02-02T08:04:12.911280Z",
          "iopub.status.busy": "2023-02-02T08:04:12.909641Z",
          "iopub.status.idle": "2023-02-02T08:04:33.030158Z",
          "shell.execute_reply": "2023-02-02T08:04:33.028316Z"
        },
        "papermill": {
          "duration": 20.15274,
          "end_time": "2023-02-02T08:04:33.032472",
          "exception": false,
          "start_time": "2023-02-02T08:04:12.879732",
          "status": "completed"
        },
        "tags": [],
        "id": "983e14c7",
        "outputId": "d60b7f3e-c6e1-44a3-d1a7-0acf14443757"
      },
      "outputs": [
        {
          "data": {
            "image/png": "[encoded data removed]"
          },
          "metadata": {
            "image/png": {
              "height": 420,
              "width": 1080
            }
          },
          "output_type": "display_data"
        }
      ],
      "source": [
        "ggplot(tips_No_Outliers, aes(x=rideable_type, y=ride_time_m, fill=member_casual)) +\n",
        "    geom_boxplot() +\n",
        "    facet_wrap(~ member_casual) +\n",
        "    labs(x=\"Rideable type\", y=\"Riding time\", title=\"Distribution of Data for rideeable type\")+ theme(panel.background = element_rect(fill = \"white\"))"
      ]
    },
    {
      "cell_type": "markdown",
      "id": "34dd71f6",
      "metadata": {
        "papermill": {
          "duration": 0.02798,
          "end_time": "2023-02-02T08:04:33.089197",
          "exception": false,
          "start_time": "2023-02-02T08:04:33.061217",
          "status": "completed"
        },
        "tags": [],
        "id": "34dd71f6"
      },
      "source": [
        "Here we can see that riding time for all three type of cycles is more for casual users than members, Members prefer to ride classic bikes than elctrical ones and they smoehow does not use the docked bikes i guess during data cleaning removing null values also removed rows of members who ride on docked bikes though i guess that number was very small thats why all of them were removed. And on the casula side we can see that they rode docked bike more than elctrical and clasic bikes."
      ]
    },
    {
      "cell_type": "markdown",
      "id": "c5ad7b8c",
      "metadata": {
        "papermill": {
          "duration": 0.028502,
          "end_time": "2023-02-02T08:04:33.145955",
          "exception": false,
          "start_time": "2023-02-02T08:04:33.117453",
          "status": "completed"
        },
        "tags": [],
        "id": "c5ad7b8c"
      },
      "source": [
        "Guiding questions\n",
        "\n",
        "● How should you organize your data to perform analysis on it?\n",
        "\n",
        "Ans:- There was different .csv file for different months to perform analysis i combined all the .csv files into one .csv file.\n",
        "\n",
        "● Has your data been properly formatted?\n",
        "\n",
        "Ans:- Yes all data types and coloumns were properly formatted.\n",
        "\n",
        "● What surprises did you discover in the data?\n",
        "\n",
        "Ans:- The surprise was the riding time difference betwwwn casual and members because members were on more numbers than casuals but casuals when they use it they use for good reasons casuals use it for daily routine.\n",
        "\n",
        "● What trends or relationships did you find in the data?\n",
        "\n",
        "Ans:- I found that members use the bikes for their daily use and casual use it for various reasons, i see that casuals use bikes more in weekends. Members prefer clasic bikes and don't use docked bikes but casuals use docked bikes more and ride on them more too. Members use of bikes are constant in weekdays in weekends it notices a rise.\n",
        "\n",
        "● How will these insights help answer your business questions?\n",
        "\n",
        "Ans:- These insights will help company to understand which month sees more usage, what type of bike is prefered by what type of member, what time is the demand high, And what can they do to make those casual users their members.\n",
        "\n",
        "Key tasks\n",
        "\n",
        "1. Aggregate your data so it’s useful and accessible.\n",
        "2. Organize and format your data.\n",
        "3. Perform calculations.\n",
        "4. Identify trends and relationships.\n",
        "\n",
        "Deliverable\n",
        "\n",
        "A summary of your analysis"
      ]
    },
    {
      "cell_type": "markdown",
      "id": "80b317a6",
      "metadata": {
        "papermill": {
          "duration": 0.028354,
          "end_time": "2023-02-02T08:04:33.202125",
          "exception": false,
          "start_time": "2023-02-02T08:04:33.173771",
          "status": "completed"
        },
        "tags": [],
        "id": "80b317a6"
      },
      "source": [
        "**Share**\n",
        "\n",
        "So we have completed every required steps to reach this point. In this step I want to share the findings or inshights i have seen through the data.\n",
        "\n",
        "  * the data distribution of Members and Casual users subscribed Members are ~60% of the total users data and ~40% Casual users.       Subscribed Members ~20% more than Casual Users.\n",
        "  \n",
        "  * there are three types of cycle available Classical, electrical and Docked though members are more than casual in the yearly       usage daily usage shows that more casual users use the cycles more than subscribed members.\n",
        "  \n",
        "  * the most user are during 8am - 8pm which consists both office and school/college starting time to closing time.\n",
        "  \n",
        "  * Members usually use the bycicles for a certain perpous it can be office or school/collge goers but we can see in the weekend       there is almost 50-50 distribution of casual and members and saturday is the day users use the cycles most with 16.1% of use       Casual people ride more on saturdays than members.\n",
        "  \n",
        "  * winter months have less users than summer and spring months so definately weather effects users to use the cycles.\n",
        "  \n",
        "  * in the distribution of data, But in the weekdays there is a systemetical up down in the data. But in weekends the bikes are       most used.\n",
        "  \n",
        "  * casual users have more riding time than members though members are more than casual users.\n",
        "  \n",
        "We can see in the data that winter months are less used and summer moonths are more used but Members use the bikes most in winter  months, I think Casual users use public transport during witer and cycling for excercise is also reduces during winter but members use them because they already have the membership which can be wasted for no use and also public transports being crowded during winter times can also be a reason for members to use their membership.\n",
        "\n",
        "If we see the graphical visualisations we can see the members follow a certain time table for the weekdays but the casuals usually don't follow any systemic rule but natural rule.\n",
        "\n",
        "In Conclusion\n",
        " * Members are basically either daily office/school/college goers\n",
        " * Use of bikes depends on months and seasons\n",
        " * Casual bikers ride more than members.\n",
        "\n",
        "Guiding questions\n",
        "\n",
        "● Were you able to answer the question of how annual members and casual riders use Cyclistic bikes differently?\n",
        "\n",
        "Ans:- Yes through the above analysis i was able to answer the question of how annual members and casual riders use Cyclistic bikes differently.\n",
        "\n",
        "● What story does your data tell?\n",
        "\n",
        "Ans:- The data tells that members are usually students and office goers who follow a set set schedule where casuals use it to their convinience.\n",
        "\n",
        "● How do your findings relate to your original question?\n",
        "\n",
        "Ans:- I found out the usage behaviour of casual and members abd that was the original question to see how they use the bikes diefferently.\n",
        "\n",
        "● Who is your audience? What is the best way to communicate with them?\n",
        "\n",
        "Ans:- My audiance is stakeholders at cyclistic company, the marketing team of the company and Lily Moreno. To present the finding a presentation is needed with the finding points.\n",
        "\n",
        "● Can data visualization help you share your findings?\n",
        "\n",
        "Ans:- Yes data visualization is the simplest and quickest way to make someone understand what the data is telling.\n",
        "\n",
        "● Is your presentation accessible to your audience?\n",
        "\n",
        "Ans:- Yes all the visualization present in this analysis can be used as presntation because the visualizations are complete and precise and simple to understand.\n",
        "\n",
        "Key tasks\n",
        "\n",
        "1. Determine the best way to share your findings.\n",
        "2. Create effective data visualizations.\n",
        "3. Present your findings.\n",
        "4. Ensure your work is accessible.\n",
        "\n",
        "Deliverable\n",
        "\n",
        "Supporting visualizations and key findings"
      ]
    },
    {
      "cell_type": "markdown",
      "id": "8b481236",
      "metadata": {
        "papermill": {
          "duration": 0.027668,
          "end_time": "2023-02-02T08:04:33.257457",
          "exception": false,
          "start_time": "2023-02-02T08:04:33.229789",
          "status": "completed"
        },
        "tags": [],
        "id": "8b481236"
      },
      "source": [
        "**Act**\n",
        "\n",
        "It is the last phase of the project thise phase is under the marketing team who will chalk-out a marketing plan using the insights given from this nalysis.\n",
        "\n",
        "Guiding questions\n",
        "\n",
        "● What is your final conclusion based on your analysis?\n",
        "\n",
        "Ans:- My final conclusion is that members and casuals use the bikes differently.\n",
        "\n",
        "● How could your team and business apply your insights?\n",
        "\n",
        "Ans:- Using the insights the management and marketing team can come up with plan to converts the casula riders to members.\n",
        "\n",
        "● What next steps would you or your stakeholders take based on your findings?\n",
        "\n",
        "Ans:- The next steps will be making a marketing plan where we can convert our casual users to members.\n",
        "\n",
        "● Is there additional data you could use to expand on your findings?\n",
        "\n",
        "Ans:- No i think the provided data was enough to find out insights."
      ]
    },
    {
      "cell_type": "markdown",
      "id": "8265c44c",
      "metadata": {
        "papermill": {
          "duration": 0.028003,
          "end_time": "2023-02-02T08:04:33.313571",
          "exception": false,
          "start_time": "2023-02-02T08:04:33.285568",
          "status": "completed"
        },
        "tags": [],
        "id": "8265c44c"
      },
      "source": [
        "**Conclusion**\n",
        "\n",
        "The First case study helped me getting a real life work experience through which I appplied all the things I learned through the course. This google analytics course helped me to learn a lot of new things which will be helpfull for my future.\n",
        "\n",
        "I am very happy to complete my first case study and also I am happy that i decided to take this course."
      ]
    }
  ],
  "metadata": {
    "kernelspec": {
      "display_name": "R",
      "language": "R",
      "name": "ir"
    },
    "language_info": {
      "codemirror_mode": "r",
      "file_extension": ".r",
      "mimetype": "text/x-r-source",
      "name": "R",
      "pygments_lexer": "r",
      "version": "4.0.5"
    },
    "papermill": {
      "default_parameters": {},
      "duration": 376.017144,
      "end_time": "2023-02-02T08:04:33.865455",
      "environment_variables": {},
      "exception": null,
      "input_path": "__notebook__.ipynb",
      "output_path": "__notebook__.ipynb",
      "parameters": {},
      "start_time": "2023-02-02T07:58:17.848311",
      "version": "2.4.0"
    },
    "colab": {
      "provenance": []
    }
  },
  "nbformat": 4,
  "nbformat_minor": 5
}